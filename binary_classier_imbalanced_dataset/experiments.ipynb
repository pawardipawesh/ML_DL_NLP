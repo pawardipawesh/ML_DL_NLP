{
  "nbformat": 4,
  "nbformat_minor": 0,
  "metadata": {
    "colab": {
      "name": "Copy of Interview.ipynb",
      "provenance": [],
      "collapsed_sections": [],
      "toc_visible": true
    },
    "kernelspec": {
      "name": "python3",
      "display_name": "Python 3"
    },
    "accelerator": "TPU"
  },
  "cells": [
    {
      "cell_type": "markdown",
      "metadata": {
        "id": "idzpdluOkKjo",
        "colab_type": "text"
      },
      "source": [
        "**Problem Description**: In allocating the incomplete haiku, we face issue of \"swipes\". The given dataset is particular use-case for line 3. We have to minimize the swipes, so that as a user you add to first jam you see on the screen. \n",
        "\n",
        "Target=0 means user swiped away the line and target=1 means he added to the line. "
      ]
    },
    {
      "cell_type": "code",
      "metadata": {
        "id": "rYB7UD5Idg4O",
        "colab_type": "code",
        "outputId": "35acb244-5ed0-4698-a14b-056822bdf1a9",
        "colab": {
          "base_uri": "https://localhost:8080/",
          "height": 222
        }
      },
      "source": [
        "!wget \"https://haikutestbucket.s3-us-west-2.amazonaws.com/yash/train_line3(Int).csv\"\n",
        "import pandas as pd"
      ],
      "execution_count": 0,
      "outputs": [
        {
          "output_type": "stream",
          "text": [
            "--2019-10-21 08:58:14--  https://haikutestbucket.s3-us-west-2.amazonaws.com/yash/train_line3(Int).csv\n",
            "Resolving haikutestbucket.s3-us-west-2.amazonaws.com (haikutestbucket.s3-us-west-2.amazonaws.com)... 52.218.201.185\n",
            "Connecting to haikutestbucket.s3-us-west-2.amazonaws.com (haikutestbucket.s3-us-west-2.amazonaws.com)|52.218.201.185|:443... connected.\n",
            "HTTP request sent, awaiting response... 200 OK\n",
            "Length: 61894478 (59M) [text/csv]\n",
            "Saving to: ‘train_line3(Int).csv.1’\n",
            "\n",
            "train_line3(Int).cs 100%[===================>]  59.03M  19.2MB/s    in 3.9s    \n",
            "\n",
            "2019-10-21 08:58:19 (15.1 MB/s) - ‘train_line3(Int).csv.1’ saved [61894478/61894478]\n",
            "\n"
          ],
          "name": "stdout"
        }
      ]
    },
    {
      "cell_type": "markdown",
      "metadata": {
        "id": "Hq_3rFmh8zF6",
        "colab_type": "text"
      },
      "source": [
        "### Data Cleaning\n",
        "\n"
      ]
    },
    {
      "cell_type": "code",
      "metadata": {
        "id": "YlSBYG0IDpDe",
        "colab_type": "code",
        "colab": {}
      },
      "source": [
        "import pandas as pd"
      ],
      "execution_count": 0,
      "outputs": []
    },
    {
      "cell_type": "code",
      "metadata": {
        "id": "h4y2y7hfd7m8",
        "colab_type": "code",
        "colab": {}
      },
      "source": [
        "X = pd.read_csv('train_line3(Int).csv')"
      ],
      "execution_count": 0,
      "outputs": []
    },
    {
      "cell_type": "code",
      "metadata": {
        "id": "lOBgF4vIeOst",
        "colab_type": "code",
        "outputId": "2cabc7d7-68ce-4c0d-9a73-d0e16d4fb2cd",
        "colab": {
          "base_uri": "https://localhost:8080/",
          "height": 34
        }
      },
      "source": [
        "X.shape"
      ],
      "execution_count": 0,
      "outputs": [
        {
          "output_type": "execute_result",
          "data": {
            "text/plain": [
              "(450371, 21)"
            ]
          },
          "metadata": {
            "tags": []
          },
          "execution_count": 56
        }
      ]
    },
    {
      "cell_type": "code",
      "metadata": {
        "id": "Fwo3mUEleota",
        "colab_type": "code",
        "outputId": "98f2469c-4977-43b9-b39a-e246fafcb919",
        "colab": {
          "base_uri": "https://localhost:8080/",
          "height": 134
        }
      },
      "source": [
        "X.columns"
      ],
      "execution_count": 0,
      "outputs": [
        {
          "output_type": "execute_result",
          "data": {
            "text/plain": [
              "Index(['shuffle.timeStamp', 'commentCount', 'likeCount', 'dlScore',\n",
              "       'spellScore', 'line1.timeStamp', 'line2.timeStamp', 'readCount',\n",
              "       'target', 'gender.line1', 'likeCount.line1', 'haikuCount.line1',\n",
              "       'spellScore.line1', 'gender.line2', 'likeCount.line2',\n",
              "       'haikuCount.line2', 'spellScore.line2', 'gender.line3',\n",
              "       'likeCount.line3', 'haikuCount.line3', 'spellScore.line3'],\n",
              "      dtype='object')"
            ]
          },
          "metadata": {
            "tags": []
          },
          "execution_count": 57
        }
      ]
    },
    {
      "cell_type": "markdown",
      "metadata": {
        "id": "eSP7adRUqWWf",
        "colab_type": "text"
      },
      "source": [
        ""
      ]
    },
    {
      "cell_type": "code",
      "metadata": {
        "id": "4JUcIO4_eqi7",
        "colab_type": "code",
        "outputId": "a85bcdcd-d866-4773-e759-bfa436b6354a",
        "colab": {
          "base_uri": "https://localhost:8080/",
          "height": 304
        }
      },
      "source": [
        "X.describe()\n"
      ],
      "execution_count": 0,
      "outputs": [
        {
          "output_type": "execute_result",
          "data": {
            "text/html": [
              "<div>\n",
              "<style scoped>\n",
              "    .dataframe tbody tr th:only-of-type {\n",
              "        vertical-align: middle;\n",
              "    }\n",
              "\n",
              "    .dataframe tbody tr th {\n",
              "        vertical-align: top;\n",
              "    }\n",
              "\n",
              "    .dataframe thead th {\n",
              "        text-align: right;\n",
              "    }\n",
              "</style>\n",
              "<table border=\"1\" class=\"dataframe\">\n",
              "  <thead>\n",
              "    <tr style=\"text-align: right;\">\n",
              "      <th></th>\n",
              "      <th>shuffle.timeStamp</th>\n",
              "      <th>commentCount</th>\n",
              "      <th>likeCount</th>\n",
              "      <th>dlScore</th>\n",
              "      <th>spellScore</th>\n",
              "      <th>line1.timeStamp</th>\n",
              "      <th>line2.timeStamp</th>\n",
              "      <th>readCount</th>\n",
              "      <th>target</th>\n",
              "      <th>gender.line1</th>\n",
              "      <th>likeCount.line1</th>\n",
              "      <th>haikuCount.line1</th>\n",
              "      <th>spellScore.line1</th>\n",
              "      <th>gender.line2</th>\n",
              "      <th>likeCount.line2</th>\n",
              "      <th>haikuCount.line2</th>\n",
              "      <th>spellScore.line2</th>\n",
              "      <th>gender.line3</th>\n",
              "      <th>likeCount.line3</th>\n",
              "      <th>haikuCount.line3</th>\n",
              "      <th>spellScore.line3</th>\n",
              "    </tr>\n",
              "  </thead>\n",
              "  <tbody>\n",
              "    <tr>\n",
              "      <th>count</th>\n",
              "      <td>4.503710e+05</td>\n",
              "      <td>450371.000000</td>\n",
              "      <td>450371.000000</td>\n",
              "      <td>450371.000000</td>\n",
              "      <td>450371.000000</td>\n",
              "      <td>4.503710e+05</td>\n",
              "      <td>4.503710e+05</td>\n",
              "      <td>450371.000000</td>\n",
              "      <td>450371.000000</td>\n",
              "      <td>450292.000000</td>\n",
              "      <td>450371.000000</td>\n",
              "      <td>450371.000000</td>\n",
              "      <td>450371.000000</td>\n",
              "      <td>450371.000000</td>\n",
              "      <td>450371.000000</td>\n",
              "      <td>450371.000000</td>\n",
              "      <td>450371.000000</td>\n",
              "      <td>443234.000000</td>\n",
              "      <td>443292.000000</td>\n",
              "      <td>443292.000000</td>\n",
              "      <td>443292.000000</td>\n",
              "    </tr>\n",
              "    <tr>\n",
              "      <th>mean</th>\n",
              "      <td>1.570940e+12</td>\n",
              "      <td>0.100104</td>\n",
              "      <td>1.625422</td>\n",
              "      <td>0.415357</td>\n",
              "      <td>0.019288</td>\n",
              "      <td>1.570930e+12</td>\n",
              "      <td>1.570938e+12</td>\n",
              "      <td>4.148897</td>\n",
              "      <td>0.165712</td>\n",
              "      <td>1.452311</td>\n",
              "      <td>28693.258087</td>\n",
              "      <td>13934.487680</td>\n",
              "      <td>0.002632</td>\n",
              "      <td>1.563871</td>\n",
              "      <td>16145.682546</td>\n",
              "      <td>6634.034834</td>\n",
              "      <td>0.003328</td>\n",
              "      <td>1.503896</td>\n",
              "      <td>9615.699022</td>\n",
              "      <td>3968.200279</td>\n",
              "      <td>0.003975</td>\n",
              "    </tr>\n",
              "    <tr>\n",
              "      <th>std</th>\n",
              "      <td>1.181776e+08</td>\n",
              "      <td>0.514589</td>\n",
              "      <td>2.388452</td>\n",
              "      <td>0.213272</td>\n",
              "      <td>0.072304</td>\n",
              "      <td>1.195040e+08</td>\n",
              "      <td>1.185109e+08</td>\n",
              "      <td>18.360614</td>\n",
              "      <td>0.371823</td>\n",
              "      <td>0.697735</td>\n",
              "      <td>57828.276651</td>\n",
              "      <td>25913.732799</td>\n",
              "      <td>0.018415</td>\n",
              "      <td>0.683450</td>\n",
              "      <td>43590.294442</td>\n",
              "      <td>17321.748381</td>\n",
              "      <td>0.019973</td>\n",
              "      <td>0.710807</td>\n",
              "      <td>34181.834240</td>\n",
              "      <td>13057.917281</td>\n",
              "      <td>0.020198</td>\n",
              "    </tr>\n",
              "    <tr>\n",
              "      <th>min</th>\n",
              "      <td>1.570720e+12</td>\n",
              "      <td>0.000000</td>\n",
              "      <td>0.000000</td>\n",
              "      <td>0.000000</td>\n",
              "      <td>0.000000</td>\n",
              "      <td>1.570720e+12</td>\n",
              "      <td>1.570720e+12</td>\n",
              "      <td>0.000000</td>\n",
              "      <td>0.000000</td>\n",
              "      <td>0.000000</td>\n",
              "      <td>0.000000</td>\n",
              "      <td>1.000000</td>\n",
              "      <td>0.000000</td>\n",
              "      <td>0.000000</td>\n",
              "      <td>0.000000</td>\n",
              "      <td>1.000000</td>\n",
              "      <td>0.000000</td>\n",
              "      <td>0.000000</td>\n",
              "      <td>0.000000</td>\n",
              "      <td>1.000000</td>\n",
              "      <td>0.000000</td>\n",
              "    </tr>\n",
              "    <tr>\n",
              "      <th>25%</th>\n",
              "      <td>1.570848e+12</td>\n",
              "      <td>0.000000</td>\n",
              "      <td>1.000000</td>\n",
              "      <td>0.250000</td>\n",
              "      <td>0.000000</td>\n",
              "      <td>1.570820e+12</td>\n",
              "      <td>1.570844e+12</td>\n",
              "      <td>1.000000</td>\n",
              "      <td>0.000000</td>\n",
              "      <td>1.000000</td>\n",
              "      <td>475.000000</td>\n",
              "      <td>321.000000</td>\n",
              "      <td>0.000000</td>\n",
              "      <td>1.000000</td>\n",
              "      <td>172.000000</td>\n",
              "      <td>128.000000</td>\n",
              "      <td>0.000000</td>\n",
              "      <td>1.000000</td>\n",
              "      <td>196.000000</td>\n",
              "      <td>137.000000</td>\n",
              "      <td>0.000000</td>\n",
              "    </tr>\n",
              "    <tr>\n",
              "      <th>50%</th>\n",
              "      <td>1.570951e+12</td>\n",
              "      <td>0.000000</td>\n",
              "      <td>2.000000</td>\n",
              "      <td>0.380000</td>\n",
              "      <td>0.000000</td>\n",
              "      <td>1.570938e+12</td>\n",
              "      <td>1.570949e+12</td>\n",
              "      <td>3.000000</td>\n",
              "      <td>0.000000</td>\n",
              "      <td>2.000000</td>\n",
              "      <td>3437.000000</td>\n",
              "      <td>1973.000000</td>\n",
              "      <td>0.000000</td>\n",
              "      <td>2.000000</td>\n",
              "      <td>1062.000000</td>\n",
              "      <td>669.000000</td>\n",
              "      <td>0.000000</td>\n",
              "      <td>2.000000</td>\n",
              "      <td>869.000000</td>\n",
              "      <td>551.000000</td>\n",
              "      <td>0.000000</td>\n",
              "    </tr>\n",
              "    <tr>\n",
              "      <th>75%</th>\n",
              "      <td>1.571048e+12</td>\n",
              "      <td>0.000000</td>\n",
              "      <td>2.000000</td>\n",
              "      <td>0.540000</td>\n",
              "      <td>0.000000</td>\n",
              "      <td>1.571039e+12</td>\n",
              "      <td>1.571046e+12</td>\n",
              "      <td>5.000000</td>\n",
              "      <td>0.000000</td>\n",
              "      <td>2.000000</td>\n",
              "      <td>25878.000000</td>\n",
              "      <td>11281.000000</td>\n",
              "      <td>0.000000</td>\n",
              "      <td>2.000000</td>\n",
              "      <td>7131.000000</td>\n",
              "      <td>3991.000000</td>\n",
              "      <td>0.000000</td>\n",
              "      <td>2.000000</td>\n",
              "      <td>4031.000000</td>\n",
              "      <td>2189.000000</td>\n",
              "      <td>0.000048</td>\n",
              "    </tr>\n",
              "    <tr>\n",
              "      <th>max</th>\n",
              "      <td>1.571145e+12</td>\n",
              "      <td>72.000000</td>\n",
              "      <td>321.000000</td>\n",
              "      <td>0.990000</td>\n",
              "      <td>0.916314</td>\n",
              "      <td>1.571144e+12</td>\n",
              "      <td>1.571145e+12</td>\n",
              "      <td>2798.000000</td>\n",
              "      <td>1.000000</td>\n",
              "      <td>3.000000</td>\n",
              "      <td>404048.000000</td>\n",
              "      <td>156300.000000</td>\n",
              "      <td>0.562963</td>\n",
              "      <td>3.000000</td>\n",
              "      <td>540556.000000</td>\n",
              "      <td>156300.000000</td>\n",
              "      <td>1.000000</td>\n",
              "      <td>3.000000</td>\n",
              "      <td>540556.000000</td>\n",
              "      <td>156300.000000</td>\n",
              "      <td>0.562963</td>\n",
              "    </tr>\n",
              "  </tbody>\n",
              "</table>\n",
              "</div>"
            ],
            "text/plain": [
              "       shuffle.timeStamp   commentCount  ...  haikuCount.line3  spellScore.line3\n",
              "count       4.503710e+05  450371.000000  ...     443292.000000     443292.000000\n",
              "mean        1.570940e+12       0.100104  ...       3968.200279          0.003975\n",
              "std         1.181776e+08       0.514589  ...      13057.917281          0.020198\n",
              "min         1.570720e+12       0.000000  ...          1.000000          0.000000\n",
              "25%         1.570848e+12       0.000000  ...        137.000000          0.000000\n",
              "50%         1.570951e+12       0.000000  ...        551.000000          0.000000\n",
              "75%         1.571048e+12       0.000000  ...       2189.000000          0.000048\n",
              "max         1.571145e+12      72.000000  ...     156300.000000          0.562963\n",
              "\n",
              "[8 rows x 21 columns]"
            ]
          },
          "metadata": {
            "tags": []
          },
          "execution_count": 58
        }
      ]
    },
    {
      "cell_type": "code",
      "metadata": {
        "id": "LScdoHKNBdJH",
        "colab_type": "code",
        "colab": {}
      },
      "source": [
        "X['time_line2_took']=X['line2.timeStamp']-X['line1.timeStamp']"
      ],
      "execution_count": 0,
      "outputs": []
    },
    {
      "cell_type": "code",
      "metadata": {
        "id": "5dYdmBQarsyJ",
        "colab_type": "code",
        "outputId": "85317558-f7ab-468d-e4bc-b49599a126dc",
        "colab": {
          "base_uri": "https://localhost:8080/",
          "height": 151
        }
      },
      "source": [
        "X.columns"
      ],
      "execution_count": 0,
      "outputs": [
        {
          "output_type": "execute_result",
          "data": {
            "text/plain": [
              "Index(['shuffle.timeStamp', 'commentCount', 'likeCount', 'dlScore',\n",
              "       'spellScore', 'line1.timeStamp', 'line2.timeStamp', 'readCount',\n",
              "       'target', 'gender.line1', 'likeCount.line1', 'haikuCount.line1',\n",
              "       'spellScore.line1', 'gender.line2', 'likeCount.line2',\n",
              "       'haikuCount.line2', 'spellScore.line2', 'gender.line3',\n",
              "       'likeCount.line3', 'haikuCount.line3', 'spellScore.line3',\n",
              "       'time_line2_took'],\n",
              "      dtype='object')"
            ]
          },
          "metadata": {
            "tags": []
          },
          "execution_count": 60
        }
      ]
    },
    {
      "cell_type": "code",
      "metadata": {
        "id": "DVJ0SuTdrzvh",
        "colab_type": "code",
        "outputId": "552c6281-f02d-4f9e-b9d7-0c8d2d0e6c84",
        "colab": {
          "base_uri": "https://localhost:8080/",
          "height": 34
        }
      },
      "source": [
        "X['time_line2_took'].count()"
      ],
      "execution_count": 0,
      "outputs": [
        {
          "output_type": "execute_result",
          "data": {
            "text/plain": [
              "450371"
            ]
          },
          "metadata": {
            "tags": []
          },
          "execution_count": 61
        }
      ]
    },
    {
      "cell_type": "code",
      "metadata": {
        "id": "xca_d2ZasJbX",
        "colab_type": "code",
        "outputId": "e2adb773-61f8-45af-96a2-d420c45a6f43",
        "colab": {
          "base_uri": "https://localhost:8080/",
          "height": 34
        }
      },
      "source": [
        "len(X[X['time_line2_took']<0])"
      ],
      "execution_count": 0,
      "outputs": [
        {
          "output_type": "execute_result",
          "data": {
            "text/plain": [
              "7"
            ]
          },
          "metadata": {
            "tags": []
          },
          "execution_count": 62
        }
      ]
    },
    {
      "cell_type": "code",
      "metadata": {
        "colab_type": "code",
        "id": "4of-NKgossAq",
        "colab": {}
      },
      "source": [
        "X=X[X['time_line2_took']>=0]"
      ],
      "execution_count": 0,
      "outputs": []
    },
    {
      "cell_type": "code",
      "metadata": {
        "id": "caZhv_-ysh2R",
        "colab_type": "code",
        "outputId": "b72548e3-77f7-40a4-a85d-6c1299bf6a81",
        "colab": {
          "base_uri": "https://localhost:8080/",
          "height": 403
        }
      },
      "source": [
        "X.count()"
      ],
      "execution_count": 0,
      "outputs": [
        {
          "output_type": "execute_result",
          "data": {
            "text/plain": [
              "shuffle.timeStamp    450364\n",
              "commentCount         450364\n",
              "likeCount            450364\n",
              "dlScore              450364\n",
              "spellScore           450364\n",
              "line1.timeStamp      450364\n",
              "line2.timeStamp      450364\n",
              "readCount            450364\n",
              "target               450364\n",
              "gender.line1         450285\n",
              "likeCount.line1      450364\n",
              "haikuCount.line1     450364\n",
              "spellScore.line1     450364\n",
              "gender.line2         450364\n",
              "likeCount.line2      450364\n",
              "haikuCount.line2     450364\n",
              "spellScore.line2     450364\n",
              "gender.line3         443228\n",
              "likeCount.line3      443286\n",
              "haikuCount.line3     443286\n",
              "spellScore.line3     443286\n",
              "time_line2_took      450364\n",
              "dtype: int64"
            ]
          },
          "metadata": {
            "tags": []
          },
          "execution_count": 64
        }
      ]
    },
    {
      "cell_type": "code",
      "metadata": {
        "id": "7D8ibfwcOlZG",
        "colab_type": "code",
        "outputId": "f584dd71-ba93-4785-f54b-a5506a862fa8",
        "colab": {
          "base_uri": "https://localhost:8080/",
          "height": 34
        }
      },
      "source": [
        "len(X[X.isnull().any(axis=1)])"
      ],
      "execution_count": 0,
      "outputs": [
        {
          "output_type": "execute_result",
          "data": {
            "text/plain": [
              "7213"
            ]
          },
          "metadata": {
            "tags": []
          },
          "execution_count": 65
        }
      ]
    },
    {
      "cell_type": "code",
      "metadata": {
        "id": "6r1AQeNIwm-z",
        "colab_type": "code",
        "outputId": "e4f33a04-2b56-4246-d9c0-30dad924c856",
        "colab": {
          "base_uri": "https://localhost:8080/",
          "height": 34
        }
      },
      "source": [
        "len(X[X.isnull().any(axis=1)==False])"
      ],
      "execution_count": 0,
      "outputs": [
        {
          "output_type": "execute_result",
          "data": {
            "text/plain": [
              "443151"
            ]
          },
          "metadata": {
            "tags": []
          },
          "execution_count": 66
        }
      ]
    },
    {
      "cell_type": "code",
      "metadata": {
        "id": "OiMvLx1ExgeT",
        "colab_type": "code",
        "colab": {}
      },
      "source": [
        "X=X[X.isnull().any(axis=1)==False]"
      ],
      "execution_count": 0,
      "outputs": []
    },
    {
      "cell_type": "code",
      "metadata": {
        "id": "eoWH--39D7py",
        "colab_type": "code",
        "colab": {}
      },
      "source": [
        "X['time_2line_hiku_shown']=X['shuffle.timeStamp']-X['line2.timeStamp']"
      ],
      "execution_count": 0,
      "outputs": []
    },
    {
      "cell_type": "markdown",
      "metadata": {
        "id": "oeH-aj09pOqn",
        "colab_type": "text"
      },
      "source": [
        "No Of samples with -ve value for column 'time_line2_took'"
      ]
    },
    {
      "cell_type": "code",
      "metadata": {
        "id": "NQKheu_zQ8O4",
        "colab_type": "code",
        "outputId": "a7b2ed1e-d0ea-43c9-9400-313efd1b1eaa",
        "colab": {
          "base_uri": "https://localhost:8080/",
          "height": 420
        }
      },
      "source": [
        "X.count()"
      ],
      "execution_count": 0,
      "outputs": [
        {
          "output_type": "execute_result",
          "data": {
            "text/plain": [
              "shuffle.timeStamp        443151\n",
              "commentCount             443151\n",
              "likeCount                443151\n",
              "dlScore                  443151\n",
              "spellScore               443151\n",
              "line1.timeStamp          443151\n",
              "line2.timeStamp          443151\n",
              "readCount                443151\n",
              "target                   443151\n",
              "gender.line1             443151\n",
              "likeCount.line1          443151\n",
              "haikuCount.line1         443151\n",
              "spellScore.line1         443151\n",
              "gender.line2             443151\n",
              "likeCount.line2          443151\n",
              "haikuCount.line2         443151\n",
              "spellScore.line2         443151\n",
              "gender.line3             443151\n",
              "likeCount.line3          443151\n",
              "haikuCount.line3         443151\n",
              "spellScore.line3         443151\n",
              "time_line2_took          443151\n",
              "time_2line_hiku_shown    443151\n",
              "dtype: int64"
            ]
          },
          "metadata": {
            "tags": []
          },
          "execution_count": 69
        }
      ]
    },
    {
      "cell_type": "code",
      "metadata": {
        "id": "fiG4hRy3_FRE",
        "colab_type": "code",
        "outputId": "242c443e-de7c-43de-85e3-b01f0258beb6",
        "colab": {
          "base_uri": "https://localhost:8080/",
          "height": 34
        }
      },
      "source": [
        "len(X[X['time_2line_hiku_shown']<0])"
      ],
      "execution_count": 0,
      "outputs": [
        {
          "output_type": "execute_result",
          "data": {
            "text/plain": [
              "12675"
            ]
          },
          "metadata": {
            "tags": []
          },
          "execution_count": 70
        }
      ]
    },
    {
      "cell_type": "code",
      "metadata": {
        "id": "6d0yqiE3_OXt",
        "colab_type": "code",
        "colab": {}
      },
      "source": [
        "X=X[X['time_2line_hiku_shown']>=0]"
      ],
      "execution_count": 0,
      "outputs": []
    },
    {
      "cell_type": "code",
      "metadata": {
        "id": "jqHNTQwI_2JH",
        "colab_type": "code",
        "outputId": "ddf03a80-f751-4920-fb31-d54867f06de5",
        "colab": {
          "base_uri": "https://localhost:8080/",
          "height": 420
        }
      },
      "source": [
        "X.count()"
      ],
      "execution_count": 0,
      "outputs": [
        {
          "output_type": "execute_result",
          "data": {
            "text/plain": [
              "shuffle.timeStamp        430476\n",
              "commentCount             430476\n",
              "likeCount                430476\n",
              "dlScore                  430476\n",
              "spellScore               430476\n",
              "line1.timeStamp          430476\n",
              "line2.timeStamp          430476\n",
              "readCount                430476\n",
              "target                   430476\n",
              "gender.line1             430476\n",
              "likeCount.line1          430476\n",
              "haikuCount.line1         430476\n",
              "spellScore.line1         430476\n",
              "gender.line2             430476\n",
              "likeCount.line2          430476\n",
              "haikuCount.line2         430476\n",
              "spellScore.line2         430476\n",
              "gender.line3             430476\n",
              "likeCount.line3          430476\n",
              "haikuCount.line3         430476\n",
              "spellScore.line3         430476\n",
              "time_line2_took          430476\n",
              "time_2line_hiku_shown    430476\n",
              "dtype: int64"
            ]
          },
          "metadata": {
            "tags": []
          },
          "execution_count": 72
        }
      ]
    },
    {
      "cell_type": "code",
      "metadata": {
        "id": "f9Sv2jxOBR_F",
        "colab_type": "code",
        "colab": {}
      },
      "source": [
        "X=X.drop_duplicates()"
      ],
      "execution_count": 0,
      "outputs": []
    },
    {
      "cell_type": "code",
      "metadata": {
        "id": "zWu0_UwuRfIj",
        "colab_type": "code",
        "outputId": "62832d58-0337-4a02-d1ca-b44a6274cee6",
        "colab": {
          "base_uri": "https://localhost:8080/",
          "height": 420
        }
      },
      "source": [
        "X.count()"
      ],
      "execution_count": 0,
      "outputs": [
        {
          "output_type": "execute_result",
          "data": {
            "text/plain": [
              "shuffle.timeStamp        418287\n",
              "commentCount             418287\n",
              "likeCount                418287\n",
              "dlScore                  418287\n",
              "spellScore               418287\n",
              "line1.timeStamp          418287\n",
              "line2.timeStamp          418287\n",
              "readCount                418287\n",
              "target                   418287\n",
              "gender.line1             418287\n",
              "likeCount.line1          418287\n",
              "haikuCount.line1         418287\n",
              "spellScore.line1         418287\n",
              "gender.line2             418287\n",
              "likeCount.line2          418287\n",
              "haikuCount.line2         418287\n",
              "spellScore.line2         418287\n",
              "gender.line3             418287\n",
              "likeCount.line3          418287\n",
              "haikuCount.line3         418287\n",
              "spellScore.line3         418287\n",
              "time_line2_took          418287\n",
              "time_2line_hiku_shown    418287\n",
              "dtype: int64"
            ]
          },
          "metadata": {
            "tags": []
          },
          "execution_count": 74
        }
      ]
    },
    {
      "cell_type": "code",
      "metadata": {
        "id": "FSq6beSWRjug",
        "colab_type": "code",
        "outputId": "43a4dc75-732b-4ea3-8038-1078c0b1d975",
        "colab": {
          "base_uri": "https://localhost:8080/",
          "height": 304
        }
      },
      "source": [
        "X.describe()"
      ],
      "execution_count": 0,
      "outputs": [
        {
          "output_type": "execute_result",
          "data": {
            "text/html": [
              "<div>\n",
              "<style scoped>\n",
              "    .dataframe tbody tr th:only-of-type {\n",
              "        vertical-align: middle;\n",
              "    }\n",
              "\n",
              "    .dataframe tbody tr th {\n",
              "        vertical-align: top;\n",
              "    }\n",
              "\n",
              "    .dataframe thead th {\n",
              "        text-align: right;\n",
              "    }\n",
              "</style>\n",
              "<table border=\"1\" class=\"dataframe\">\n",
              "  <thead>\n",
              "    <tr style=\"text-align: right;\">\n",
              "      <th></th>\n",
              "      <th>shuffle.timeStamp</th>\n",
              "      <th>commentCount</th>\n",
              "      <th>likeCount</th>\n",
              "      <th>dlScore</th>\n",
              "      <th>spellScore</th>\n",
              "      <th>line1.timeStamp</th>\n",
              "      <th>line2.timeStamp</th>\n",
              "      <th>readCount</th>\n",
              "      <th>target</th>\n",
              "      <th>gender.line1</th>\n",
              "      <th>likeCount.line1</th>\n",
              "      <th>haikuCount.line1</th>\n",
              "      <th>spellScore.line1</th>\n",
              "      <th>gender.line2</th>\n",
              "      <th>likeCount.line2</th>\n",
              "      <th>haikuCount.line2</th>\n",
              "      <th>spellScore.line2</th>\n",
              "      <th>gender.line3</th>\n",
              "      <th>likeCount.line3</th>\n",
              "      <th>haikuCount.line3</th>\n",
              "      <th>spellScore.line3</th>\n",
              "      <th>time_line2_took</th>\n",
              "      <th>time_2line_hiku_shown</th>\n",
              "    </tr>\n",
              "  </thead>\n",
              "  <tbody>\n",
              "    <tr>\n",
              "      <th>count</th>\n",
              "      <td>4.182870e+05</td>\n",
              "      <td>418287.000000</td>\n",
              "      <td>418287.000000</td>\n",
              "      <td>418287.000000</td>\n",
              "      <td>418287.000000</td>\n",
              "      <td>4.182870e+05</td>\n",
              "      <td>4.182870e+05</td>\n",
              "      <td>418287.000000</td>\n",
              "      <td>418287.000000</td>\n",
              "      <td>418287.000000</td>\n",
              "      <td>418287.000000</td>\n",
              "      <td>418287.000000</td>\n",
              "      <td>418287.000000</td>\n",
              "      <td>418287.000000</td>\n",
              "      <td>418287.000000</td>\n",
              "      <td>418287.000000</td>\n",
              "      <td>418287.000000</td>\n",
              "      <td>418287.000000</td>\n",
              "      <td>418287.000000</td>\n",
              "      <td>418287.000000</td>\n",
              "      <td>418287.000000</td>\n",
              "      <td>4.182870e+05</td>\n",
              "      <td>4.182870e+05</td>\n",
              "    </tr>\n",
              "    <tr>\n",
              "      <th>mean</th>\n",
              "      <td>1.570940e+12</td>\n",
              "      <td>0.099910</td>\n",
              "      <td>1.612314</td>\n",
              "      <td>0.414699</td>\n",
              "      <td>0.019009</td>\n",
              "      <td>1.570930e+12</td>\n",
              "      <td>1.570939e+12</td>\n",
              "      <td>4.109695</td>\n",
              "      <td>0.168743</td>\n",
              "      <td>1.452266</td>\n",
              "      <td>28503.986846</td>\n",
              "      <td>13859.041708</td>\n",
              "      <td>0.002643</td>\n",
              "      <td>1.562810</td>\n",
              "      <td>16073.840915</td>\n",
              "      <td>6611.630787</td>\n",
              "      <td>0.003276</td>\n",
              "      <td>1.505811</td>\n",
              "      <td>9577.028648</td>\n",
              "      <td>3952.711239</td>\n",
              "      <td>0.003896</td>\n",
              "      <td>8.612036e+06</td>\n",
              "      <td>1.735191e+06</td>\n",
              "    </tr>\n",
              "    <tr>\n",
              "      <th>std</th>\n",
              "      <td>1.176704e+08</td>\n",
              "      <td>0.497762</td>\n",
              "      <td>2.191132</td>\n",
              "      <td>0.212870</td>\n",
              "      <td>0.071739</td>\n",
              "      <td>1.189382e+08</td>\n",
              "      <td>1.179594e+08</td>\n",
              "      <td>17.041482</td>\n",
              "      <td>0.374525</td>\n",
              "      <td>0.697692</td>\n",
              "      <td>57487.085006</td>\n",
              "      <td>25817.379212</td>\n",
              "      <td>0.018453</td>\n",
              "      <td>0.684084</td>\n",
              "      <td>43563.385493</td>\n",
              "      <td>17323.446770</td>\n",
              "      <td>0.019544</td>\n",
              "      <td>0.710508</td>\n",
              "      <td>34169.293509</td>\n",
              "      <td>13053.160619</td>\n",
              "      <td>0.019695</td>\n",
              "      <td>2.879272e+07</td>\n",
              "      <td>9.142197e+06</td>\n",
              "    </tr>\n",
              "    <tr>\n",
              "      <th>min</th>\n",
              "      <td>1.570720e+12</td>\n",
              "      <td>0.000000</td>\n",
              "      <td>0.000000</td>\n",
              "      <td>0.000000</td>\n",
              "      <td>0.000000</td>\n",
              "      <td>1.570720e+12</td>\n",
              "      <td>1.570720e+12</td>\n",
              "      <td>0.000000</td>\n",
              "      <td>0.000000</td>\n",
              "      <td>0.000000</td>\n",
              "      <td>0.000000</td>\n",
              "      <td>1.000000</td>\n",
              "      <td>0.000000</td>\n",
              "      <td>0.000000</td>\n",
              "      <td>0.000000</td>\n",
              "      <td>1.000000</td>\n",
              "      <td>0.000000</td>\n",
              "      <td>0.000000</td>\n",
              "      <td>0.000000</td>\n",
              "      <td>1.000000</td>\n",
              "      <td>0.000000</td>\n",
              "      <td>0.000000e+00</td>\n",
              "      <td>0.000000e+00</td>\n",
              "    </tr>\n",
              "    <tr>\n",
              "      <th>25%</th>\n",
              "      <td>1.570849e+12</td>\n",
              "      <td>0.000000</td>\n",
              "      <td>1.000000</td>\n",
              "      <td>0.250000</td>\n",
              "      <td>0.000000</td>\n",
              "      <td>1.570821e+12</td>\n",
              "      <td>1.570846e+12</td>\n",
              "      <td>1.000000</td>\n",
              "      <td>0.000000</td>\n",
              "      <td>1.000000</td>\n",
              "      <td>469.000000</td>\n",
              "      <td>317.000000</td>\n",
              "      <td>0.000000</td>\n",
              "      <td>1.000000</td>\n",
              "      <td>172.000000</td>\n",
              "      <td>128.000000</td>\n",
              "      <td>0.000000</td>\n",
              "      <td>1.000000</td>\n",
              "      <td>195.000000</td>\n",
              "      <td>136.000000</td>\n",
              "      <td>0.000000</td>\n",
              "      <td>5.359900e+05</td>\n",
              "      <td>5.365900e+04</td>\n",
              "    </tr>\n",
              "    <tr>\n",
              "      <th>50%</th>\n",
              "      <td>1.570950e+12</td>\n",
              "      <td>0.000000</td>\n",
              "      <td>2.000000</td>\n",
              "      <td>0.370000</td>\n",
              "      <td>0.000000</td>\n",
              "      <td>1.570937e+12</td>\n",
              "      <td>1.570949e+12</td>\n",
              "      <td>3.000000</td>\n",
              "      <td>0.000000</td>\n",
              "      <td>2.000000</td>\n",
              "      <td>3403.000000</td>\n",
              "      <td>1934.000000</td>\n",
              "      <td>0.000000</td>\n",
              "      <td>2.000000</td>\n",
              "      <td>1053.000000</td>\n",
              "      <td>663.000000</td>\n",
              "      <td>0.000000</td>\n",
              "      <td>2.000000</td>\n",
              "      <td>853.000000</td>\n",
              "      <td>543.000000</td>\n",
              "      <td>0.000000</td>\n",
              "      <td>1.360798e+06</td>\n",
              "      <td>4.941010e+05</td>\n",
              "    </tr>\n",
              "    <tr>\n",
              "      <th>75%</th>\n",
              "      <td>1.571047e+12</td>\n",
              "      <td>0.000000</td>\n",
              "      <td>2.000000</td>\n",
              "      <td>0.540000</td>\n",
              "      <td>0.000000</td>\n",
              "      <td>1.571037e+12</td>\n",
              "      <td>1.571045e+12</td>\n",
              "      <td>5.000000</td>\n",
              "      <td>0.000000</td>\n",
              "      <td>2.000000</td>\n",
              "      <td>25650.000000</td>\n",
              "      <td>11281.000000</td>\n",
              "      <td>0.000000</td>\n",
              "      <td>2.000000</td>\n",
              "      <td>7131.000000</td>\n",
              "      <td>3986.000000</td>\n",
              "      <td>0.000000</td>\n",
              "      <td>2.000000</td>\n",
              "      <td>3924.000000</td>\n",
              "      <td>2173.000000</td>\n",
              "      <td>0.000051</td>\n",
              "      <td>2.218434e+06</td>\n",
              "      <td>1.745178e+06</td>\n",
              "    </tr>\n",
              "    <tr>\n",
              "      <th>max</th>\n",
              "      <td>1.571145e+12</td>\n",
              "      <td>72.000000</td>\n",
              "      <td>321.000000</td>\n",
              "      <td>0.990000</td>\n",
              "      <td>0.916314</td>\n",
              "      <td>1.571144e+12</td>\n",
              "      <td>1.571145e+12</td>\n",
              "      <td>2719.000000</td>\n",
              "      <td>1.000000</td>\n",
              "      <td>3.000000</td>\n",
              "      <td>404048.000000</td>\n",
              "      <td>156300.000000</td>\n",
              "      <td>0.562963</td>\n",
              "      <td>3.000000</td>\n",
              "      <td>540556.000000</td>\n",
              "      <td>156300.000000</td>\n",
              "      <td>1.000000</td>\n",
              "      <td>3.000000</td>\n",
              "      <td>540556.000000</td>\n",
              "      <td>156300.000000</td>\n",
              "      <td>0.562963</td>\n",
              "      <td>3.977058e+08</td>\n",
              "      <td>3.956751e+08</td>\n",
              "    </tr>\n",
              "  </tbody>\n",
              "</table>\n",
              "</div>"
            ],
            "text/plain": [
              "       shuffle.timeStamp   commentCount  ...  time_line2_took  time_2line_hiku_shown\n",
              "count       4.182870e+05  418287.000000  ...     4.182870e+05           4.182870e+05\n",
              "mean        1.570940e+12       0.099910  ...     8.612036e+06           1.735191e+06\n",
              "std         1.176704e+08       0.497762  ...     2.879272e+07           9.142197e+06\n",
              "min         1.570720e+12       0.000000  ...     0.000000e+00           0.000000e+00\n",
              "25%         1.570849e+12       0.000000  ...     5.359900e+05           5.365900e+04\n",
              "50%         1.570950e+12       0.000000  ...     1.360798e+06           4.941010e+05\n",
              "75%         1.571047e+12       0.000000  ...     2.218434e+06           1.745178e+06\n",
              "max         1.571145e+12      72.000000  ...     3.977058e+08           3.956751e+08\n",
              "\n",
              "[8 rows x 23 columns]"
            ]
          },
          "metadata": {
            "tags": []
          },
          "execution_count": 75
        }
      ]
    },
    {
      "cell_type": "markdown",
      "metadata": {
        "colab_type": "text",
        "id": "2OErZ0KgUFvw"
      },
      "source": [
        "### Normalize Features\n"
      ]
    },
    {
      "cell_type": "code",
      "metadata": {
        "id": "wir-ZTWiUyBX",
        "colab_type": "code",
        "colab": {}
      },
      "source": [
        "from sklearn.preprocessing import MinMaxScaler\n",
        "from sklearn.base import BaseEstimator, TransformerMixin\n",
        "from sklearn.preprocessing import Imputer\n",
        "from statsmodels.stats.outliers_influence import variance_inflation_factor\n",
        "from sklearn.model_selection import train_test_split\n",
        "from sklearn.metrics import classification_report\n",
        "from sklearn.linear_model import LogisticRegression\n",
        "from sklearn.model_selection import learning_curve\n",
        "from sklearn.model_selection import cross_val_score\n",
        "from sklearn.model_selection import StratifiedKFold\n",
        "from sklearn.metrics import precision_recall_curve\n",
        "from sklearn.metrics import roc_curve, auc\n",
        "from sklearn.metrics import auc\n",
        "import matplotlib.pyplot as plt\n",
        "from sklearn.tree import DecisionTreeClassifier\n",
        "from sklearn.ensemble import BaggingClassifier,GradientBoostingClassifier,AdaBoostClassifier,RandomForestClassifier\n",
        "from numpy import array\n",
        "import numpy as np\n",
        "\n",
        "skfold=StratifiedKFold(n_splits=5, shuffle=True, random_state=42)"
      ],
      "execution_count": 0,
      "outputs": []
    },
    {
      "cell_type": "code",
      "metadata": {
        "id": "DZ-6Zn0lXzQc",
        "colab_type": "code",
        "outputId": "eb8665e9-9237-4ef0-cc08-236820d26eea",
        "colab": {
          "base_uri": "https://localhost:8080/",
          "height": 151
        }
      },
      "source": [
        "X.columns"
      ],
      "execution_count": 0,
      "outputs": [
        {
          "output_type": "execute_result",
          "data": {
            "text/plain": [
              "Index(['shuffle.timeStamp', 'commentCount', 'likeCount', 'dlScore',\n",
              "       'spellScore', 'line1.timeStamp', 'line2.timeStamp', 'readCount',\n",
              "       'target', 'gender.line1', 'likeCount.line1', 'haikuCount.line1',\n",
              "       'spellScore.line1', 'gender.line2', 'likeCount.line2',\n",
              "       'haikuCount.line2', 'spellScore.line2', 'gender.line3',\n",
              "       'likeCount.line3', 'haikuCount.line3', 'spellScore.line3',\n",
              "       'time_line2_took', 'time_2line_hiku_shown'],\n",
              "      dtype='object')"
            ]
          },
          "metadata": {
            "tags": []
          },
          "execution_count": 77
        }
      ]
    },
    {
      "cell_type": "code",
      "metadata": {
        "id": "UCx36K0yYhDT",
        "colab_type": "code",
        "outputId": "92c7674a-60e2-43c7-8c9d-6fd0bdbd1f5f",
        "colab": {
          "base_uri": "https://localhost:8080/",
          "height": 304
        }
      },
      "source": [
        "X.describe()"
      ],
      "execution_count": 0,
      "outputs": [
        {
          "output_type": "execute_result",
          "data": {
            "text/html": [
              "<div>\n",
              "<style scoped>\n",
              "    .dataframe tbody tr th:only-of-type {\n",
              "        vertical-align: middle;\n",
              "    }\n",
              "\n",
              "    .dataframe tbody tr th {\n",
              "        vertical-align: top;\n",
              "    }\n",
              "\n",
              "    .dataframe thead th {\n",
              "        text-align: right;\n",
              "    }\n",
              "</style>\n",
              "<table border=\"1\" class=\"dataframe\">\n",
              "  <thead>\n",
              "    <tr style=\"text-align: right;\">\n",
              "      <th></th>\n",
              "      <th>shuffle.timeStamp</th>\n",
              "      <th>commentCount</th>\n",
              "      <th>likeCount</th>\n",
              "      <th>dlScore</th>\n",
              "      <th>spellScore</th>\n",
              "      <th>line1.timeStamp</th>\n",
              "      <th>line2.timeStamp</th>\n",
              "      <th>readCount</th>\n",
              "      <th>target</th>\n",
              "      <th>gender.line1</th>\n",
              "      <th>likeCount.line1</th>\n",
              "      <th>haikuCount.line1</th>\n",
              "      <th>spellScore.line1</th>\n",
              "      <th>gender.line2</th>\n",
              "      <th>likeCount.line2</th>\n",
              "      <th>haikuCount.line2</th>\n",
              "      <th>spellScore.line2</th>\n",
              "      <th>gender.line3</th>\n",
              "      <th>likeCount.line3</th>\n",
              "      <th>haikuCount.line3</th>\n",
              "      <th>spellScore.line3</th>\n",
              "      <th>time_line2_took</th>\n",
              "      <th>time_2line_hiku_shown</th>\n",
              "    </tr>\n",
              "  </thead>\n",
              "  <tbody>\n",
              "    <tr>\n",
              "      <th>count</th>\n",
              "      <td>4.182870e+05</td>\n",
              "      <td>418287.000000</td>\n",
              "      <td>418287.000000</td>\n",
              "      <td>418287.000000</td>\n",
              "      <td>418287.000000</td>\n",
              "      <td>4.182870e+05</td>\n",
              "      <td>4.182870e+05</td>\n",
              "      <td>418287.000000</td>\n",
              "      <td>418287.000000</td>\n",
              "      <td>418287.000000</td>\n",
              "      <td>418287.000000</td>\n",
              "      <td>418287.000000</td>\n",
              "      <td>418287.000000</td>\n",
              "      <td>418287.000000</td>\n",
              "      <td>418287.000000</td>\n",
              "      <td>418287.000000</td>\n",
              "      <td>418287.000000</td>\n",
              "      <td>418287.000000</td>\n",
              "      <td>418287.000000</td>\n",
              "      <td>418287.000000</td>\n",
              "      <td>418287.000000</td>\n",
              "      <td>4.182870e+05</td>\n",
              "      <td>4.182870e+05</td>\n",
              "    </tr>\n",
              "    <tr>\n",
              "      <th>mean</th>\n",
              "      <td>1.570940e+12</td>\n",
              "      <td>0.099910</td>\n",
              "      <td>1.612314</td>\n",
              "      <td>0.414699</td>\n",
              "      <td>0.019009</td>\n",
              "      <td>1.570930e+12</td>\n",
              "      <td>1.570939e+12</td>\n",
              "      <td>4.109695</td>\n",
              "      <td>0.168743</td>\n",
              "      <td>1.452266</td>\n",
              "      <td>28503.986846</td>\n",
              "      <td>13859.041708</td>\n",
              "      <td>0.002643</td>\n",
              "      <td>1.562810</td>\n",
              "      <td>16073.840915</td>\n",
              "      <td>6611.630787</td>\n",
              "      <td>0.003276</td>\n",
              "      <td>1.505811</td>\n",
              "      <td>9577.028648</td>\n",
              "      <td>3952.711239</td>\n",
              "      <td>0.003896</td>\n",
              "      <td>8.612036e+06</td>\n",
              "      <td>1.735191e+06</td>\n",
              "    </tr>\n",
              "    <tr>\n",
              "      <th>std</th>\n",
              "      <td>1.176704e+08</td>\n",
              "      <td>0.497762</td>\n",
              "      <td>2.191132</td>\n",
              "      <td>0.212870</td>\n",
              "      <td>0.071739</td>\n",
              "      <td>1.189382e+08</td>\n",
              "      <td>1.179594e+08</td>\n",
              "      <td>17.041482</td>\n",
              "      <td>0.374525</td>\n",
              "      <td>0.697692</td>\n",
              "      <td>57487.085006</td>\n",
              "      <td>25817.379212</td>\n",
              "      <td>0.018453</td>\n",
              "      <td>0.684084</td>\n",
              "      <td>43563.385493</td>\n",
              "      <td>17323.446770</td>\n",
              "      <td>0.019544</td>\n",
              "      <td>0.710508</td>\n",
              "      <td>34169.293509</td>\n",
              "      <td>13053.160619</td>\n",
              "      <td>0.019695</td>\n",
              "      <td>2.879272e+07</td>\n",
              "      <td>9.142197e+06</td>\n",
              "    </tr>\n",
              "    <tr>\n",
              "      <th>min</th>\n",
              "      <td>1.570720e+12</td>\n",
              "      <td>0.000000</td>\n",
              "      <td>0.000000</td>\n",
              "      <td>0.000000</td>\n",
              "      <td>0.000000</td>\n",
              "      <td>1.570720e+12</td>\n",
              "      <td>1.570720e+12</td>\n",
              "      <td>0.000000</td>\n",
              "      <td>0.000000</td>\n",
              "      <td>0.000000</td>\n",
              "      <td>0.000000</td>\n",
              "      <td>1.000000</td>\n",
              "      <td>0.000000</td>\n",
              "      <td>0.000000</td>\n",
              "      <td>0.000000</td>\n",
              "      <td>1.000000</td>\n",
              "      <td>0.000000</td>\n",
              "      <td>0.000000</td>\n",
              "      <td>0.000000</td>\n",
              "      <td>1.000000</td>\n",
              "      <td>0.000000</td>\n",
              "      <td>0.000000e+00</td>\n",
              "      <td>0.000000e+00</td>\n",
              "    </tr>\n",
              "    <tr>\n",
              "      <th>25%</th>\n",
              "      <td>1.570849e+12</td>\n",
              "      <td>0.000000</td>\n",
              "      <td>1.000000</td>\n",
              "      <td>0.250000</td>\n",
              "      <td>0.000000</td>\n",
              "      <td>1.570821e+12</td>\n",
              "      <td>1.570846e+12</td>\n",
              "      <td>1.000000</td>\n",
              "      <td>0.000000</td>\n",
              "      <td>1.000000</td>\n",
              "      <td>469.000000</td>\n",
              "      <td>317.000000</td>\n",
              "      <td>0.000000</td>\n",
              "      <td>1.000000</td>\n",
              "      <td>172.000000</td>\n",
              "      <td>128.000000</td>\n",
              "      <td>0.000000</td>\n",
              "      <td>1.000000</td>\n",
              "      <td>195.000000</td>\n",
              "      <td>136.000000</td>\n",
              "      <td>0.000000</td>\n",
              "      <td>5.359900e+05</td>\n",
              "      <td>5.365900e+04</td>\n",
              "    </tr>\n",
              "    <tr>\n",
              "      <th>50%</th>\n",
              "      <td>1.570950e+12</td>\n",
              "      <td>0.000000</td>\n",
              "      <td>2.000000</td>\n",
              "      <td>0.370000</td>\n",
              "      <td>0.000000</td>\n",
              "      <td>1.570937e+12</td>\n",
              "      <td>1.570949e+12</td>\n",
              "      <td>3.000000</td>\n",
              "      <td>0.000000</td>\n",
              "      <td>2.000000</td>\n",
              "      <td>3403.000000</td>\n",
              "      <td>1934.000000</td>\n",
              "      <td>0.000000</td>\n",
              "      <td>2.000000</td>\n",
              "      <td>1053.000000</td>\n",
              "      <td>663.000000</td>\n",
              "      <td>0.000000</td>\n",
              "      <td>2.000000</td>\n",
              "      <td>853.000000</td>\n",
              "      <td>543.000000</td>\n",
              "      <td>0.000000</td>\n",
              "      <td>1.360798e+06</td>\n",
              "      <td>4.941010e+05</td>\n",
              "    </tr>\n",
              "    <tr>\n",
              "      <th>75%</th>\n",
              "      <td>1.571047e+12</td>\n",
              "      <td>0.000000</td>\n",
              "      <td>2.000000</td>\n",
              "      <td>0.540000</td>\n",
              "      <td>0.000000</td>\n",
              "      <td>1.571037e+12</td>\n",
              "      <td>1.571045e+12</td>\n",
              "      <td>5.000000</td>\n",
              "      <td>0.000000</td>\n",
              "      <td>2.000000</td>\n",
              "      <td>25650.000000</td>\n",
              "      <td>11281.000000</td>\n",
              "      <td>0.000000</td>\n",
              "      <td>2.000000</td>\n",
              "      <td>7131.000000</td>\n",
              "      <td>3986.000000</td>\n",
              "      <td>0.000000</td>\n",
              "      <td>2.000000</td>\n",
              "      <td>3924.000000</td>\n",
              "      <td>2173.000000</td>\n",
              "      <td>0.000051</td>\n",
              "      <td>2.218434e+06</td>\n",
              "      <td>1.745178e+06</td>\n",
              "    </tr>\n",
              "    <tr>\n",
              "      <th>max</th>\n",
              "      <td>1.571145e+12</td>\n",
              "      <td>72.000000</td>\n",
              "      <td>321.000000</td>\n",
              "      <td>0.990000</td>\n",
              "      <td>0.916314</td>\n",
              "      <td>1.571144e+12</td>\n",
              "      <td>1.571145e+12</td>\n",
              "      <td>2719.000000</td>\n",
              "      <td>1.000000</td>\n",
              "      <td>3.000000</td>\n",
              "      <td>404048.000000</td>\n",
              "      <td>156300.000000</td>\n",
              "      <td>0.562963</td>\n",
              "      <td>3.000000</td>\n",
              "      <td>540556.000000</td>\n",
              "      <td>156300.000000</td>\n",
              "      <td>1.000000</td>\n",
              "      <td>3.000000</td>\n",
              "      <td>540556.000000</td>\n",
              "      <td>156300.000000</td>\n",
              "      <td>0.562963</td>\n",
              "      <td>3.977058e+08</td>\n",
              "      <td>3.956751e+08</td>\n",
              "    </tr>\n",
              "  </tbody>\n",
              "</table>\n",
              "</div>"
            ],
            "text/plain": [
              "       shuffle.timeStamp   commentCount  ...  time_line2_took  time_2line_hiku_shown\n",
              "count       4.182870e+05  418287.000000  ...     4.182870e+05           4.182870e+05\n",
              "mean        1.570940e+12       0.099910  ...     8.612036e+06           1.735191e+06\n",
              "std         1.176704e+08       0.497762  ...     2.879272e+07           9.142197e+06\n",
              "min         1.570720e+12       0.000000  ...     0.000000e+00           0.000000e+00\n",
              "25%         1.570849e+12       0.000000  ...     5.359900e+05           5.365900e+04\n",
              "50%         1.570950e+12       0.000000  ...     1.360798e+06           4.941010e+05\n",
              "75%         1.571047e+12       0.000000  ...     2.218434e+06           1.745178e+06\n",
              "max         1.571145e+12      72.000000  ...     3.977058e+08           3.956751e+08\n",
              "\n",
              "[8 rows x 23 columns]"
            ]
          },
          "metadata": {
            "tags": []
          },
          "execution_count": 78
        }
      ]
    },
    {
      "cell_type": "code",
      "metadata": {
        "id": "DVNpE7l8WkZ1",
        "colab_type": "code",
        "colab": {}
      },
      "source": [
        "scaler = MinMaxScaler()\n",
        "column_list=['commentCount','likeCount','readCount','likeCount.line1','haikuCount.line1','likeCount.line2',\n",
        "   'haikuCount.line2','likeCount.line3','haikuCount.line3','time_line2_took','time_2line_hiku_shown']\n",
        "\n",
        "X[column_list]=scaler.fit_transform(X[column_list])"
      ],
      "execution_count": 0,
      "outputs": []
    },
    {
      "cell_type": "code",
      "metadata": {
        "id": "xAhbHO9Wa0DX",
        "colab_type": "code",
        "outputId": "63f256a5-ee3f-4abe-ddd2-e86981a25fc6",
        "colab": {
          "base_uri": "https://localhost:8080/",
          "height": 304
        }
      },
      "source": [
        "X.describe()"
      ],
      "execution_count": 0,
      "outputs": [
        {
          "output_type": "execute_result",
          "data": {
            "text/html": [
              "<div>\n",
              "<style scoped>\n",
              "    .dataframe tbody tr th:only-of-type {\n",
              "        vertical-align: middle;\n",
              "    }\n",
              "\n",
              "    .dataframe tbody tr th {\n",
              "        vertical-align: top;\n",
              "    }\n",
              "\n",
              "    .dataframe thead th {\n",
              "        text-align: right;\n",
              "    }\n",
              "</style>\n",
              "<table border=\"1\" class=\"dataframe\">\n",
              "  <thead>\n",
              "    <tr style=\"text-align: right;\">\n",
              "      <th></th>\n",
              "      <th>shuffle.timeStamp</th>\n",
              "      <th>commentCount</th>\n",
              "      <th>likeCount</th>\n",
              "      <th>dlScore</th>\n",
              "      <th>spellScore</th>\n",
              "      <th>line1.timeStamp</th>\n",
              "      <th>line2.timeStamp</th>\n",
              "      <th>readCount</th>\n",
              "      <th>target</th>\n",
              "      <th>gender.line1</th>\n",
              "      <th>likeCount.line1</th>\n",
              "      <th>haikuCount.line1</th>\n",
              "      <th>spellScore.line1</th>\n",
              "      <th>gender.line2</th>\n",
              "      <th>likeCount.line2</th>\n",
              "      <th>haikuCount.line2</th>\n",
              "      <th>spellScore.line2</th>\n",
              "      <th>gender.line3</th>\n",
              "      <th>likeCount.line3</th>\n",
              "      <th>haikuCount.line3</th>\n",
              "      <th>spellScore.line3</th>\n",
              "      <th>time_line2_took</th>\n",
              "      <th>time_2line_hiku_shown</th>\n",
              "    </tr>\n",
              "  </thead>\n",
              "  <tbody>\n",
              "    <tr>\n",
              "      <th>count</th>\n",
              "      <td>4.182870e+05</td>\n",
              "      <td>418287.000000</td>\n",
              "      <td>418287.000000</td>\n",
              "      <td>418287.000000</td>\n",
              "      <td>418287.000000</td>\n",
              "      <td>4.182870e+05</td>\n",
              "      <td>4.182870e+05</td>\n",
              "      <td>418287.000000</td>\n",
              "      <td>418287.000000</td>\n",
              "      <td>418287.000000</td>\n",
              "      <td>418287.000000</td>\n",
              "      <td>418287.000000</td>\n",
              "      <td>418287.000000</td>\n",
              "      <td>418287.000000</td>\n",
              "      <td>418287.000000</td>\n",
              "      <td>418287.000000</td>\n",
              "      <td>418287.000000</td>\n",
              "      <td>418287.000000</td>\n",
              "      <td>418287.000000</td>\n",
              "      <td>418287.000000</td>\n",
              "      <td>418287.000000</td>\n",
              "      <td>418287.000000</td>\n",
              "      <td>418287.000000</td>\n",
              "    </tr>\n",
              "    <tr>\n",
              "      <th>mean</th>\n",
              "      <td>1.570940e+12</td>\n",
              "      <td>0.001388</td>\n",
              "      <td>0.005023</td>\n",
              "      <td>0.414699</td>\n",
              "      <td>0.019009</td>\n",
              "      <td>1.570930e+12</td>\n",
              "      <td>1.570939e+12</td>\n",
              "      <td>0.001511</td>\n",
              "      <td>0.168743</td>\n",
              "      <td>1.452266</td>\n",
              "      <td>0.070546</td>\n",
              "      <td>0.088664</td>\n",
              "      <td>0.002643</td>\n",
              "      <td>1.562810</td>\n",
              "      <td>0.029736</td>\n",
              "      <td>0.042295</td>\n",
              "      <td>0.003276</td>\n",
              "      <td>1.505811</td>\n",
              "      <td>0.017717</td>\n",
              "      <td>0.025283</td>\n",
              "      <td>0.003896</td>\n",
              "      <td>0.021654</td>\n",
              "      <td>0.004385</td>\n",
              "    </tr>\n",
              "    <tr>\n",
              "      <th>std</th>\n",
              "      <td>1.176704e+08</td>\n",
              "      <td>0.006913</td>\n",
              "      <td>0.006826</td>\n",
              "      <td>0.212870</td>\n",
              "      <td>0.071739</td>\n",
              "      <td>1.189382e+08</td>\n",
              "      <td>1.179594e+08</td>\n",
              "      <td>0.006268</td>\n",
              "      <td>0.374525</td>\n",
              "      <td>0.697692</td>\n",
              "      <td>0.142278</td>\n",
              "      <td>0.165179</td>\n",
              "      <td>0.018453</td>\n",
              "      <td>0.684084</td>\n",
              "      <td>0.080590</td>\n",
              "      <td>0.110835</td>\n",
              "      <td>0.019544</td>\n",
              "      <td>0.710508</td>\n",
              "      <td>0.063211</td>\n",
              "      <td>0.083514</td>\n",
              "      <td>0.019695</td>\n",
              "      <td>0.072397</td>\n",
              "      <td>0.023105</td>\n",
              "    </tr>\n",
              "    <tr>\n",
              "      <th>min</th>\n",
              "      <td>1.570720e+12</td>\n",
              "      <td>0.000000</td>\n",
              "      <td>0.000000</td>\n",
              "      <td>0.000000</td>\n",
              "      <td>0.000000</td>\n",
              "      <td>1.570720e+12</td>\n",
              "      <td>1.570720e+12</td>\n",
              "      <td>0.000000</td>\n",
              "      <td>0.000000</td>\n",
              "      <td>0.000000</td>\n",
              "      <td>0.000000</td>\n",
              "      <td>0.000000</td>\n",
              "      <td>0.000000</td>\n",
              "      <td>0.000000</td>\n",
              "      <td>0.000000</td>\n",
              "      <td>0.000000</td>\n",
              "      <td>0.000000</td>\n",
              "      <td>0.000000</td>\n",
              "      <td>0.000000</td>\n",
              "      <td>0.000000</td>\n",
              "      <td>0.000000</td>\n",
              "      <td>0.000000</td>\n",
              "      <td>0.000000</td>\n",
              "    </tr>\n",
              "    <tr>\n",
              "      <th>25%</th>\n",
              "      <td>1.570849e+12</td>\n",
              "      <td>0.000000</td>\n",
              "      <td>0.003115</td>\n",
              "      <td>0.250000</td>\n",
              "      <td>0.000000</td>\n",
              "      <td>1.570821e+12</td>\n",
              "      <td>1.570846e+12</td>\n",
              "      <td>0.000368</td>\n",
              "      <td>0.000000</td>\n",
              "      <td>1.000000</td>\n",
              "      <td>0.001161</td>\n",
              "      <td>0.002022</td>\n",
              "      <td>0.000000</td>\n",
              "      <td>1.000000</td>\n",
              "      <td>0.000318</td>\n",
              "      <td>0.000813</td>\n",
              "      <td>0.000000</td>\n",
              "      <td>1.000000</td>\n",
              "      <td>0.000361</td>\n",
              "      <td>0.000864</td>\n",
              "      <td>0.000000</td>\n",
              "      <td>0.001348</td>\n",
              "      <td>0.000136</td>\n",
              "    </tr>\n",
              "    <tr>\n",
              "      <th>50%</th>\n",
              "      <td>1.570950e+12</td>\n",
              "      <td>0.000000</td>\n",
              "      <td>0.006231</td>\n",
              "      <td>0.370000</td>\n",
              "      <td>0.000000</td>\n",
              "      <td>1.570937e+12</td>\n",
              "      <td>1.570949e+12</td>\n",
              "      <td>0.001103</td>\n",
              "      <td>0.000000</td>\n",
              "      <td>2.000000</td>\n",
              "      <td>0.008422</td>\n",
              "      <td>0.012367</td>\n",
              "      <td>0.000000</td>\n",
              "      <td>2.000000</td>\n",
              "      <td>0.001948</td>\n",
              "      <td>0.004235</td>\n",
              "      <td>0.000000</td>\n",
              "      <td>2.000000</td>\n",
              "      <td>0.001578</td>\n",
              "      <td>0.003468</td>\n",
              "      <td>0.000000</td>\n",
              "      <td>0.003422</td>\n",
              "      <td>0.001249</td>\n",
              "    </tr>\n",
              "    <tr>\n",
              "      <th>75%</th>\n",
              "      <td>1.571047e+12</td>\n",
              "      <td>0.000000</td>\n",
              "      <td>0.006231</td>\n",
              "      <td>0.540000</td>\n",
              "      <td>0.000000</td>\n",
              "      <td>1.571037e+12</td>\n",
              "      <td>1.571045e+12</td>\n",
              "      <td>0.001839</td>\n",
              "      <td>0.000000</td>\n",
              "      <td>2.000000</td>\n",
              "      <td>0.063483</td>\n",
              "      <td>0.072169</td>\n",
              "      <td>0.000000</td>\n",
              "      <td>2.000000</td>\n",
              "      <td>0.013192</td>\n",
              "      <td>0.025496</td>\n",
              "      <td>0.000000</td>\n",
              "      <td>2.000000</td>\n",
              "      <td>0.007259</td>\n",
              "      <td>0.013896</td>\n",
              "      <td>0.000051</td>\n",
              "      <td>0.005578</td>\n",
              "      <td>0.004411</td>\n",
              "    </tr>\n",
              "    <tr>\n",
              "      <th>max</th>\n",
              "      <td>1.571145e+12</td>\n",
              "      <td>1.000000</td>\n",
              "      <td>1.000000</td>\n",
              "      <td>0.990000</td>\n",
              "      <td>0.916314</td>\n",
              "      <td>1.571144e+12</td>\n",
              "      <td>1.571145e+12</td>\n",
              "      <td>1.000000</td>\n",
              "      <td>1.000000</td>\n",
              "      <td>3.000000</td>\n",
              "      <td>1.000000</td>\n",
              "      <td>1.000000</td>\n",
              "      <td>0.562963</td>\n",
              "      <td>3.000000</td>\n",
              "      <td>1.000000</td>\n",
              "      <td>1.000000</td>\n",
              "      <td>1.000000</td>\n",
              "      <td>3.000000</td>\n",
              "      <td>1.000000</td>\n",
              "      <td>1.000000</td>\n",
              "      <td>0.562963</td>\n",
              "      <td>1.000000</td>\n",
              "      <td>1.000000</td>\n",
              "    </tr>\n",
              "  </tbody>\n",
              "</table>\n",
              "</div>"
            ],
            "text/plain": [
              "       shuffle.timeStamp   commentCount  ...  time_line2_took  time_2line_hiku_shown\n",
              "count       4.182870e+05  418287.000000  ...    418287.000000          418287.000000\n",
              "mean        1.570940e+12       0.001388  ...         0.021654               0.004385\n",
              "std         1.176704e+08       0.006913  ...         0.072397               0.023105\n",
              "min         1.570720e+12       0.000000  ...         0.000000               0.000000\n",
              "25%         1.570849e+12       0.000000  ...         0.001348               0.000136\n",
              "50%         1.570950e+12       0.000000  ...         0.003422               0.001249\n",
              "75%         1.571047e+12       0.000000  ...         0.005578               0.004411\n",
              "max         1.571145e+12       1.000000  ...         1.000000               1.000000\n",
              "\n",
              "[8 rows x 23 columns]"
            ]
          },
          "metadata": {
            "tags": []
          },
          "execution_count": 80
        }
      ]
    },
    {
      "cell_type": "code",
      "metadata": {
        "id": "jLd4wbktjRiD",
        "colab_type": "code",
        "colab": {}
      },
      "source": [
        "X=pd.concat([X,pd.get_dummies(X['gender.line1'], prefix='gender.line1')],axis=1)\n",
        "X=pd.concat([X,pd.get_dummies(X['gender.line2'], prefix='gender.line2')],axis=1)\n",
        "X=pd.concat([X,pd.get_dummies(X['gender.line3'], prefix='gender.line3')],axis=1)"
      ],
      "execution_count": 0,
      "outputs": []
    },
    {
      "cell_type": "code",
      "metadata": {
        "id": "xpWWn4cupD2E",
        "colab_type": "code",
        "outputId": "3b314c2a-a356-4d97-c010-cc75445a48ab",
        "colab": {
          "base_uri": "https://localhost:8080/",
          "height": 218
        }
      },
      "source": [
        "X.columns"
      ],
      "execution_count": 0,
      "outputs": [
        {
          "output_type": "execute_result",
          "data": {
            "text/plain": [
              "Index(['shuffle.timeStamp', 'commentCount', 'likeCount', 'dlScore',\n",
              "       'spellScore', 'line1.timeStamp', 'line2.timeStamp', 'readCount',\n",
              "       'target', 'gender.line1', 'likeCount.line1', 'haikuCount.line1',\n",
              "       'spellScore.line1', 'gender.line2', 'likeCount.line2',\n",
              "       'haikuCount.line2', 'spellScore.line2', 'gender.line3',\n",
              "       'likeCount.line3', 'haikuCount.line3', 'spellScore.line3',\n",
              "       'time_line2_took', 'time_2line_hiku_shown', 'gender.line1_0.0',\n",
              "       'gender.line1_1.0', 'gender.line1_2.0', 'gender.line1_3.0',\n",
              "       'gender.line2_0', 'gender.line2_1', 'gender.line2_2', 'gender.line2_3',\n",
              "       'gender.line3_0.0', 'gender.line3_1.0', 'gender.line3_2.0',\n",
              "       'gender.line3_3.0'],\n",
              "      dtype='object')"
            ]
          },
          "metadata": {
            "tags": []
          },
          "execution_count": 82
        }
      ]
    },
    {
      "cell_type": "code",
      "metadata": {
        "id": "Mk3RVsUpvpCK",
        "colab_type": "code",
        "colab": {}
      },
      "source": [
        "column_list=['shuffle.timeStamp','line1.timeStamp','line2.timeStamp','gender.line1','gender.line2',\n",
        "             'gender.line3']\n",
        "X.drop(column_list,inplace=True,axis=1)"
      ],
      "execution_count": 0,
      "outputs": []
    },
    {
      "cell_type": "code",
      "metadata": {
        "id": "PL8wMVvJwy9-",
        "colab_type": "code",
        "outputId": "82719498-fbb8-484f-8562-4ea121444e90",
        "colab": {
          "base_uri": "https://localhost:8080/",
          "height": 304
        }
      },
      "source": [
        "X.describe()"
      ],
      "execution_count": 0,
      "outputs": [
        {
          "output_type": "execute_result",
          "data": {
            "text/html": [
              "<div>\n",
              "<style scoped>\n",
              "    .dataframe tbody tr th:only-of-type {\n",
              "        vertical-align: middle;\n",
              "    }\n",
              "\n",
              "    .dataframe tbody tr th {\n",
              "        vertical-align: top;\n",
              "    }\n",
              "\n",
              "    .dataframe thead th {\n",
              "        text-align: right;\n",
              "    }\n",
              "</style>\n",
              "<table border=\"1\" class=\"dataframe\">\n",
              "  <thead>\n",
              "    <tr style=\"text-align: right;\">\n",
              "      <th></th>\n",
              "      <th>commentCount</th>\n",
              "      <th>likeCount</th>\n",
              "      <th>dlScore</th>\n",
              "      <th>spellScore</th>\n",
              "      <th>readCount</th>\n",
              "      <th>target</th>\n",
              "      <th>likeCount.line1</th>\n",
              "      <th>haikuCount.line1</th>\n",
              "      <th>spellScore.line1</th>\n",
              "      <th>likeCount.line2</th>\n",
              "      <th>haikuCount.line2</th>\n",
              "      <th>spellScore.line2</th>\n",
              "      <th>likeCount.line3</th>\n",
              "      <th>haikuCount.line3</th>\n",
              "      <th>spellScore.line3</th>\n",
              "      <th>time_line2_took</th>\n",
              "      <th>time_2line_hiku_shown</th>\n",
              "      <th>gender.line1_0.0</th>\n",
              "      <th>gender.line1_1.0</th>\n",
              "      <th>gender.line1_2.0</th>\n",
              "      <th>gender.line1_3.0</th>\n",
              "      <th>gender.line2_0</th>\n",
              "      <th>gender.line2_1</th>\n",
              "      <th>gender.line2_2</th>\n",
              "      <th>gender.line2_3</th>\n",
              "      <th>gender.line3_0.0</th>\n",
              "      <th>gender.line3_1.0</th>\n",
              "      <th>gender.line3_2.0</th>\n",
              "      <th>gender.line3_3.0</th>\n",
              "    </tr>\n",
              "  </thead>\n",
              "  <tbody>\n",
              "    <tr>\n",
              "      <th>count</th>\n",
              "      <td>418287.000000</td>\n",
              "      <td>418287.000000</td>\n",
              "      <td>418287.000000</td>\n",
              "      <td>418287.000000</td>\n",
              "      <td>418287.000000</td>\n",
              "      <td>418287.000000</td>\n",
              "      <td>418287.000000</td>\n",
              "      <td>418287.000000</td>\n",
              "      <td>418287.000000</td>\n",
              "      <td>418287.000000</td>\n",
              "      <td>418287.000000</td>\n",
              "      <td>418287.000000</td>\n",
              "      <td>418287.000000</td>\n",
              "      <td>418287.000000</td>\n",
              "      <td>418287.000000</td>\n",
              "      <td>418287.000000</td>\n",
              "      <td>418287.000000</td>\n",
              "      <td>418287.000000</td>\n",
              "      <td>418287.000000</td>\n",
              "      <td>418287.000000</td>\n",
              "      <td>418287.000000</td>\n",
              "      <td>418287.000000</td>\n",
              "      <td>418287.000000</td>\n",
              "      <td>418287.000000</td>\n",
              "      <td>418287.000000</td>\n",
              "      <td>418287.000000</td>\n",
              "      <td>418287.000000</td>\n",
              "      <td>418287.000000</td>\n",
              "      <td>418287.000000</td>\n",
              "    </tr>\n",
              "    <tr>\n",
              "      <th>mean</th>\n",
              "      <td>0.001388</td>\n",
              "      <td>0.005023</td>\n",
              "      <td>0.414699</td>\n",
              "      <td>0.019009</td>\n",
              "      <td>0.001511</td>\n",
              "      <td>0.168743</td>\n",
              "      <td>0.070546</td>\n",
              "      <td>0.088664</td>\n",
              "      <td>0.002643</td>\n",
              "      <td>0.029736</td>\n",
              "      <td>0.042295</td>\n",
              "      <td>0.003276</td>\n",
              "      <td>0.017717</td>\n",
              "      <td>0.025283</td>\n",
              "      <td>0.003896</td>\n",
              "      <td>0.021654</td>\n",
              "      <td>0.004385</td>\n",
              "      <td>0.109633</td>\n",
              "      <td>0.338361</td>\n",
              "      <td>0.542113</td>\n",
              "      <td>0.009893</td>\n",
              "      <td>0.095743</td>\n",
              "      <td>0.260919</td>\n",
              "      <td>0.628124</td>\n",
              "      <td>0.015214</td>\n",
              "      <td>0.114417</td>\n",
              "      <td>0.278366</td>\n",
              "      <td>0.594207</td>\n",
              "      <td>0.013010</td>\n",
              "    </tr>\n",
              "    <tr>\n",
              "      <th>std</th>\n",
              "      <td>0.006913</td>\n",
              "      <td>0.006826</td>\n",
              "      <td>0.212870</td>\n",
              "      <td>0.071739</td>\n",
              "      <td>0.006268</td>\n",
              "      <td>0.374525</td>\n",
              "      <td>0.142278</td>\n",
              "      <td>0.165179</td>\n",
              "      <td>0.018453</td>\n",
              "      <td>0.080590</td>\n",
              "      <td>0.110835</td>\n",
              "      <td>0.019544</td>\n",
              "      <td>0.063211</td>\n",
              "      <td>0.083514</td>\n",
              "      <td>0.019695</td>\n",
              "      <td>0.072397</td>\n",
              "      <td>0.023105</td>\n",
              "      <td>0.312432</td>\n",
              "      <td>0.473153</td>\n",
              "      <td>0.498224</td>\n",
              "      <td>0.098969</td>\n",
              "      <td>0.294239</td>\n",
              "      <td>0.439136</td>\n",
              "      <td>0.483306</td>\n",
              "      <td>0.122405</td>\n",
              "      <td>0.318317</td>\n",
              "      <td>0.448195</td>\n",
              "      <td>0.491045</td>\n",
              "      <td>0.113318</td>\n",
              "    </tr>\n",
              "    <tr>\n",
              "      <th>min</th>\n",
              "      <td>0.000000</td>\n",
              "      <td>0.000000</td>\n",
              "      <td>0.000000</td>\n",
              "      <td>0.000000</td>\n",
              "      <td>0.000000</td>\n",
              "      <td>0.000000</td>\n",
              "      <td>0.000000</td>\n",
              "      <td>0.000000</td>\n",
              "      <td>0.000000</td>\n",
              "      <td>0.000000</td>\n",
              "      <td>0.000000</td>\n",
              "      <td>0.000000</td>\n",
              "      <td>0.000000</td>\n",
              "      <td>0.000000</td>\n",
              "      <td>0.000000</td>\n",
              "      <td>0.000000</td>\n",
              "      <td>0.000000</td>\n",
              "      <td>0.000000</td>\n",
              "      <td>0.000000</td>\n",
              "      <td>0.000000</td>\n",
              "      <td>0.000000</td>\n",
              "      <td>0.000000</td>\n",
              "      <td>0.000000</td>\n",
              "      <td>0.000000</td>\n",
              "      <td>0.000000</td>\n",
              "      <td>0.000000</td>\n",
              "      <td>0.000000</td>\n",
              "      <td>0.000000</td>\n",
              "      <td>0.000000</td>\n",
              "    </tr>\n",
              "    <tr>\n",
              "      <th>25%</th>\n",
              "      <td>0.000000</td>\n",
              "      <td>0.003115</td>\n",
              "      <td>0.250000</td>\n",
              "      <td>0.000000</td>\n",
              "      <td>0.000368</td>\n",
              "      <td>0.000000</td>\n",
              "      <td>0.001161</td>\n",
              "      <td>0.002022</td>\n",
              "      <td>0.000000</td>\n",
              "      <td>0.000318</td>\n",
              "      <td>0.000813</td>\n",
              "      <td>0.000000</td>\n",
              "      <td>0.000361</td>\n",
              "      <td>0.000864</td>\n",
              "      <td>0.000000</td>\n",
              "      <td>0.001348</td>\n",
              "      <td>0.000136</td>\n",
              "      <td>0.000000</td>\n",
              "      <td>0.000000</td>\n",
              "      <td>0.000000</td>\n",
              "      <td>0.000000</td>\n",
              "      <td>0.000000</td>\n",
              "      <td>0.000000</td>\n",
              "      <td>0.000000</td>\n",
              "      <td>0.000000</td>\n",
              "      <td>0.000000</td>\n",
              "      <td>0.000000</td>\n",
              "      <td>0.000000</td>\n",
              "      <td>0.000000</td>\n",
              "    </tr>\n",
              "    <tr>\n",
              "      <th>50%</th>\n",
              "      <td>0.000000</td>\n",
              "      <td>0.006231</td>\n",
              "      <td>0.370000</td>\n",
              "      <td>0.000000</td>\n",
              "      <td>0.001103</td>\n",
              "      <td>0.000000</td>\n",
              "      <td>0.008422</td>\n",
              "      <td>0.012367</td>\n",
              "      <td>0.000000</td>\n",
              "      <td>0.001948</td>\n",
              "      <td>0.004235</td>\n",
              "      <td>0.000000</td>\n",
              "      <td>0.001578</td>\n",
              "      <td>0.003468</td>\n",
              "      <td>0.000000</td>\n",
              "      <td>0.003422</td>\n",
              "      <td>0.001249</td>\n",
              "      <td>0.000000</td>\n",
              "      <td>0.000000</td>\n",
              "      <td>1.000000</td>\n",
              "      <td>0.000000</td>\n",
              "      <td>0.000000</td>\n",
              "      <td>0.000000</td>\n",
              "      <td>1.000000</td>\n",
              "      <td>0.000000</td>\n",
              "      <td>0.000000</td>\n",
              "      <td>0.000000</td>\n",
              "      <td>1.000000</td>\n",
              "      <td>0.000000</td>\n",
              "    </tr>\n",
              "    <tr>\n",
              "      <th>75%</th>\n",
              "      <td>0.000000</td>\n",
              "      <td>0.006231</td>\n",
              "      <td>0.540000</td>\n",
              "      <td>0.000000</td>\n",
              "      <td>0.001839</td>\n",
              "      <td>0.000000</td>\n",
              "      <td>0.063483</td>\n",
              "      <td>0.072169</td>\n",
              "      <td>0.000000</td>\n",
              "      <td>0.013192</td>\n",
              "      <td>0.025496</td>\n",
              "      <td>0.000000</td>\n",
              "      <td>0.007259</td>\n",
              "      <td>0.013896</td>\n",
              "      <td>0.000051</td>\n",
              "      <td>0.005578</td>\n",
              "      <td>0.004411</td>\n",
              "      <td>0.000000</td>\n",
              "      <td>1.000000</td>\n",
              "      <td>1.000000</td>\n",
              "      <td>0.000000</td>\n",
              "      <td>0.000000</td>\n",
              "      <td>1.000000</td>\n",
              "      <td>1.000000</td>\n",
              "      <td>0.000000</td>\n",
              "      <td>0.000000</td>\n",
              "      <td>1.000000</td>\n",
              "      <td>1.000000</td>\n",
              "      <td>0.000000</td>\n",
              "    </tr>\n",
              "    <tr>\n",
              "      <th>max</th>\n",
              "      <td>1.000000</td>\n",
              "      <td>1.000000</td>\n",
              "      <td>0.990000</td>\n",
              "      <td>0.916314</td>\n",
              "      <td>1.000000</td>\n",
              "      <td>1.000000</td>\n",
              "      <td>1.000000</td>\n",
              "      <td>1.000000</td>\n",
              "      <td>0.562963</td>\n",
              "      <td>1.000000</td>\n",
              "      <td>1.000000</td>\n",
              "      <td>1.000000</td>\n",
              "      <td>1.000000</td>\n",
              "      <td>1.000000</td>\n",
              "      <td>0.562963</td>\n",
              "      <td>1.000000</td>\n",
              "      <td>1.000000</td>\n",
              "      <td>1.000000</td>\n",
              "      <td>1.000000</td>\n",
              "      <td>1.000000</td>\n",
              "      <td>1.000000</td>\n",
              "      <td>1.000000</td>\n",
              "      <td>1.000000</td>\n",
              "      <td>1.000000</td>\n",
              "      <td>1.000000</td>\n",
              "      <td>1.000000</td>\n",
              "      <td>1.000000</td>\n",
              "      <td>1.000000</td>\n",
              "      <td>1.000000</td>\n",
              "    </tr>\n",
              "  </tbody>\n",
              "</table>\n",
              "</div>"
            ],
            "text/plain": [
              "        commentCount      likeCount  ...  gender.line3_2.0  gender.line3_3.0\n",
              "count  418287.000000  418287.000000  ...     418287.000000     418287.000000\n",
              "mean        0.001388       0.005023  ...          0.594207          0.013010\n",
              "std         0.006913       0.006826  ...          0.491045          0.113318\n",
              "min         0.000000       0.000000  ...          0.000000          0.000000\n",
              "25%         0.000000       0.003115  ...          0.000000          0.000000\n",
              "50%         0.000000       0.006231  ...          1.000000          0.000000\n",
              "75%         0.000000       0.006231  ...          1.000000          0.000000\n",
              "max         1.000000       1.000000  ...          1.000000          1.000000\n",
              "\n",
              "[8 rows x 29 columns]"
            ]
          },
          "metadata": {
            "tags": []
          },
          "execution_count": 84
        }
      ]
    },
    {
      "cell_type": "code",
      "metadata": {
        "id": "Xdy2JYk-w0wB",
        "colab_type": "code",
        "colab": {}
      },
      "source": [
        "class ReduceVIF(BaseEstimator, TransformerMixin):\n",
        "    def __init__(self, thresh=5.0, impute=True, impute_strategy='median'):\n",
        "        # From looking at documentation, values between 5 and 10 are \"okay\".\n",
        "        # Above 10 is too high and so should be removed.\n",
        "        self.thresh = thresh\n",
        "        \n",
        "        # The statsmodel function will fail with NaN values, as such we have to impute them.\n",
        "        # By default we impute using the median value.\n",
        "        # This imputation could be taken out and added as part of an sklearn Pipeline.\n",
        "        if impute:\n",
        "            self.imputer = Imputer(strategy=impute_strategy)\n",
        "\n",
        "    def fit(self, X, y=None):\n",
        "        print('ReduceVIF fit')\n",
        "        if hasattr(self, 'imputer'):\n",
        "            self.imputer.fit(X)\n",
        "        return self\n",
        "\n",
        "    def transform(self, X, y=None):\n",
        "        print('ReduceVIF transform')\n",
        "        columns = X.columns.tolist()\n",
        "        if hasattr(self, 'imputer'):\n",
        "            X = pd.DataFrame(self.imputer.transform(X), columns=columns)\n",
        "        return ReduceVIF.calculate_vif(X, self.thresh)\n",
        "\n",
        "    @staticmethod\n",
        "    def calculate_vif(X, thresh=5.0):\n",
        "        # Taken from https://stats.stackexchange.com/a/253620/53565 and modified\n",
        "        dropped=True\n",
        "        while dropped:\n",
        "            variables = X.columns\n",
        "            dropped = False\n",
        "            vif = [variance_inflation_factor(X[variables].values, X.columns.get_loc(var)) for var in X.columns]\n",
        "            \n",
        "            max_vif = max(vif)\n",
        "            if max_vif > thresh:\n",
        "                maxloc = vif.index(max_vif)\n",
        "                print(f'Dropping {X.columns[maxloc]} with vif={max_vif}')\n",
        "                X = X.drop([X.columns.tolist()[maxloc]], axis=1)\n",
        "                dropped=True\n",
        "        return X"
      ],
      "execution_count": 0,
      "outputs": []
    },
    {
      "cell_type": "code",
      "metadata": {
        "id": "ZgrYgVPVnxDx",
        "colab_type": "code",
        "outputId": "e34c4f4d-1225-4319-a15e-c5dc8a3b2d2d",
        "colab": {
          "base_uri": "https://localhost:8080/",
          "height": 417
        }
      },
      "source": [
        "transformer = ReduceVIF()\n",
        "column_list=['commentCount', 'likeCount', 'dlScore', 'spellScore','readCount','likeCount.line1',\t\n",
        "             'haikuCount.line1','spellScore.line1',\t'likeCount.line2','haikuCount.line2',\t'spellScore.line2',\t\n",
        "             'likeCount.line3',\t'haikuCount.line3',\t'spellScore.line3',\t'time_line2_took',\t'time_2line_hiku_shown',\t\n",
        "             'gender.line2_0',\t'gender.line2_1',\t'gender.line2_2',\t'gender.line2_3',\t'gender.line3_0.0',\t\n",
        "             'gender.line3_1.0',\t'gender.line3_2.0',\t'gender.line3_3.0',\t'gender.line1_0.0',\t'gender.line1_1.0',\n",
        "             'gender.line1_2.0',\t'gender.line1_3.0']\n",
        "Y=X\n",
        "\n",
        "X = transformer.fit_transform(X[column_list], X['target'])\n",
        "\n",
        "X.head()"
      ],
      "execution_count": 0,
      "outputs": [
        {
          "output_type": "stream",
          "text": [
            "/usr/local/lib/python3.6/dist-packages/sklearn/utils/deprecation.py:66: DeprecationWarning: Class Imputer is deprecated; Imputer was deprecated in version 0.20 and will be removed in 0.22. Import impute.SimpleImputer from sklearn instead.\n",
            "  warnings.warn(msg, category=DeprecationWarning)\n"
          ],
          "name": "stderr"
        },
        {
          "output_type": "stream",
          "text": [
            "ReduceVIF fit\n",
            "ReduceVIF transform\n"
          ],
          "name": "stdout"
        },
        {
          "output_type": "stream",
          "text": [
            "/usr/local/lib/python3.6/dist-packages/statsmodels/stats/outliers_influence.py:185: RuntimeWarning: divide by zero encountered in double_scalars\n",
            "  vif = 1. / (1. - r_squared_i)\n"
          ],
          "name": "stderr"
        },
        {
          "output_type": "stream",
          "text": [
            "Dropping gender.line2_0 with vif=inf\n",
            "Dropping gender.line3_0.0 with vif=inf\n",
            "Dropping likeCount.line2 with vif=23.88946278831178\n",
            "Dropping haikuCount.line3 with vif=22.661157806601643\n",
            "Dropping gender.line1_2.0 with vif=12.776785626977206\n",
            "Dropping haikuCount.line1 with vif=9.613800468720468\n"
          ],
          "name": "stdout"
        },
        {
          "output_type": "execute_result",
          "data": {
            "text/html": [
              "<div>\n",
              "<style scoped>\n",
              "    .dataframe tbody tr th:only-of-type {\n",
              "        vertical-align: middle;\n",
              "    }\n",
              "\n",
              "    .dataframe tbody tr th {\n",
              "        vertical-align: top;\n",
              "    }\n",
              "\n",
              "    .dataframe thead th {\n",
              "        text-align: right;\n",
              "    }\n",
              "</style>\n",
              "<table border=\"1\" class=\"dataframe\">\n",
              "  <thead>\n",
              "    <tr style=\"text-align: right;\">\n",
              "      <th></th>\n",
              "      <th>commentCount</th>\n",
              "      <th>likeCount</th>\n",
              "      <th>dlScore</th>\n",
              "      <th>spellScore</th>\n",
              "      <th>readCount</th>\n",
              "      <th>likeCount.line1</th>\n",
              "      <th>spellScore.line1</th>\n",
              "      <th>haikuCount.line2</th>\n",
              "      <th>spellScore.line2</th>\n",
              "      <th>likeCount.line3</th>\n",
              "      <th>spellScore.line3</th>\n",
              "      <th>time_line2_took</th>\n",
              "      <th>time_2line_hiku_shown</th>\n",
              "      <th>gender.line2_1</th>\n",
              "      <th>gender.line2_2</th>\n",
              "      <th>gender.line2_3</th>\n",
              "      <th>gender.line3_1.0</th>\n",
              "      <th>gender.line3_2.0</th>\n",
              "      <th>gender.line3_3.0</th>\n",
              "      <th>gender.line1_0.0</th>\n",
              "      <th>gender.line1_1.0</th>\n",
              "      <th>gender.line1_3.0</th>\n",
              "    </tr>\n",
              "  </thead>\n",
              "  <tbody>\n",
              "    <tr>\n",
              "      <th>0</th>\n",
              "      <td>0.0</td>\n",
              "      <td>0.009346</td>\n",
              "      <td>0.82</td>\n",
              "      <td>0.0</td>\n",
              "      <td>0.001103</td>\n",
              "      <td>0.000497</td>\n",
              "      <td>0.000000</td>\n",
              "      <td>0.125605</td>\n",
              "      <td>0.0</td>\n",
              "      <td>0.085751</td>\n",
              "      <td>0.000113</td>\n",
              "      <td>0.000040</td>\n",
              "      <td>2.780059e-07</td>\n",
              "      <td>1.0</td>\n",
              "      <td>0.0</td>\n",
              "      <td>0.0</td>\n",
              "      <td>0.0</td>\n",
              "      <td>1.0</td>\n",
              "      <td>0.0</td>\n",
              "      <td>0.0</td>\n",
              "      <td>0.0</td>\n",
              "      <td>0.0</td>\n",
              "    </tr>\n",
              "    <tr>\n",
              "      <th>1</th>\n",
              "      <td>0.0</td>\n",
              "      <td>0.006231</td>\n",
              "      <td>0.45</td>\n",
              "      <td>0.0</td>\n",
              "      <td>0.000736</td>\n",
              "      <td>0.018201</td>\n",
              "      <td>0.000020</td>\n",
              "      <td>0.012706</td>\n",
              "      <td>0.0</td>\n",
              "      <td>0.011679</td>\n",
              "      <td>0.003182</td>\n",
              "      <td>0.000054</td>\n",
              "      <td>1.968787e-06</td>\n",
              "      <td>0.0</td>\n",
              "      <td>1.0</td>\n",
              "      <td>0.0</td>\n",
              "      <td>0.0</td>\n",
              "      <td>0.0</td>\n",
              "      <td>0.0</td>\n",
              "      <td>0.0</td>\n",
              "      <td>1.0</td>\n",
              "      <td>0.0</td>\n",
              "    </tr>\n",
              "    <tr>\n",
              "      <th>2</th>\n",
              "      <td>0.0</td>\n",
              "      <td>0.006231</td>\n",
              "      <td>0.74</td>\n",
              "      <td>0.0</td>\n",
              "      <td>0.000736</td>\n",
              "      <td>0.028135</td>\n",
              "      <td>0.000102</td>\n",
              "      <td>0.193059</td>\n",
              "      <td>0.0</td>\n",
              "      <td>0.086668</td>\n",
              "      <td>0.000000</td>\n",
              "      <td>0.000035</td>\n",
              "      <td>1.872749e-06</td>\n",
              "      <td>0.0</td>\n",
              "      <td>0.0</td>\n",
              "      <td>0.0</td>\n",
              "      <td>0.0</td>\n",
              "      <td>1.0</td>\n",
              "      <td>0.0</td>\n",
              "      <td>0.0</td>\n",
              "      <td>1.0</td>\n",
              "      <td>0.0</td>\n",
              "    </tr>\n",
              "    <tr>\n",
              "      <th>3</th>\n",
              "      <td>0.0</td>\n",
              "      <td>0.009346</td>\n",
              "      <td>0.65</td>\n",
              "      <td>0.0</td>\n",
              "      <td>0.000000</td>\n",
              "      <td>0.019579</td>\n",
              "      <td>0.000000</td>\n",
              "      <td>0.019002</td>\n",
              "      <td>0.0</td>\n",
              "      <td>0.002560</td>\n",
              "      <td>0.000000</td>\n",
              "      <td>0.000042</td>\n",
              "      <td>5.277057e-06</td>\n",
              "      <td>1.0</td>\n",
              "      <td>0.0</td>\n",
              "      <td>0.0</td>\n",
              "      <td>1.0</td>\n",
              "      <td>0.0</td>\n",
              "      <td>0.0</td>\n",
              "      <td>0.0</td>\n",
              "      <td>0.0</td>\n",
              "      <td>0.0</td>\n",
              "    </tr>\n",
              "    <tr>\n",
              "      <th>4</th>\n",
              "      <td>0.0</td>\n",
              "      <td>0.009346</td>\n",
              "      <td>0.65</td>\n",
              "      <td>0.0</td>\n",
              "      <td>0.000000</td>\n",
              "      <td>0.019579</td>\n",
              "      <td>0.000000</td>\n",
              "      <td>0.019002</td>\n",
              "      <td>0.0</td>\n",
              "      <td>0.239172</td>\n",
              "      <td>0.000000</td>\n",
              "      <td>0.000042</td>\n",
              "      <td>5.155745e-06</td>\n",
              "      <td>1.0</td>\n",
              "      <td>0.0</td>\n",
              "      <td>0.0</td>\n",
              "      <td>1.0</td>\n",
              "      <td>0.0</td>\n",
              "      <td>0.0</td>\n",
              "      <td>0.0</td>\n",
              "      <td>0.0</td>\n",
              "      <td>0.0</td>\n",
              "    </tr>\n",
              "  </tbody>\n",
              "</table>\n",
              "</div>"
            ],
            "text/plain": [
              "   commentCount  likeCount  ...  gender.line1_1.0  gender.line1_3.0\n",
              "0           0.0   0.009346  ...               0.0               0.0\n",
              "1           0.0   0.006231  ...               1.0               0.0\n",
              "2           0.0   0.006231  ...               1.0               0.0\n",
              "3           0.0   0.009346  ...               0.0               0.0\n",
              "4           0.0   0.009346  ...               0.0               0.0\n",
              "\n",
              "[5 rows x 22 columns]"
            ]
          },
          "metadata": {
            "tags": []
          },
          "execution_count": 86
        }
      ]
    },
    {
      "cell_type": "code",
      "metadata": {
        "id": "FEpnW3XtoCxe",
        "colab_type": "code",
        "outputId": "8a5efe79-5a29-4bb1-ab34-46d867e5e9d1",
        "colab": {
          "base_uri": "https://localhost:8080/",
          "height": 304
        }
      },
      "source": [
        "X.describe()"
      ],
      "execution_count": 0,
      "outputs": [
        {
          "output_type": "execute_result",
          "data": {
            "text/html": [
              "<div>\n",
              "<style scoped>\n",
              "    .dataframe tbody tr th:only-of-type {\n",
              "        vertical-align: middle;\n",
              "    }\n",
              "\n",
              "    .dataframe tbody tr th {\n",
              "        vertical-align: top;\n",
              "    }\n",
              "\n",
              "    .dataframe thead th {\n",
              "        text-align: right;\n",
              "    }\n",
              "</style>\n",
              "<table border=\"1\" class=\"dataframe\">\n",
              "  <thead>\n",
              "    <tr style=\"text-align: right;\">\n",
              "      <th></th>\n",
              "      <th>commentCount</th>\n",
              "      <th>likeCount</th>\n",
              "      <th>dlScore</th>\n",
              "      <th>spellScore</th>\n",
              "      <th>readCount</th>\n",
              "      <th>likeCount.line1</th>\n",
              "      <th>spellScore.line1</th>\n",
              "      <th>haikuCount.line2</th>\n",
              "      <th>spellScore.line2</th>\n",
              "      <th>likeCount.line3</th>\n",
              "      <th>spellScore.line3</th>\n",
              "      <th>time_line2_took</th>\n",
              "      <th>time_2line_hiku_shown</th>\n",
              "      <th>gender.line2_1</th>\n",
              "      <th>gender.line2_2</th>\n",
              "      <th>gender.line2_3</th>\n",
              "      <th>gender.line3_1.0</th>\n",
              "      <th>gender.line3_2.0</th>\n",
              "      <th>gender.line3_3.0</th>\n",
              "      <th>gender.line1_0.0</th>\n",
              "      <th>gender.line1_1.0</th>\n",
              "      <th>gender.line1_3.0</th>\n",
              "    </tr>\n",
              "  </thead>\n",
              "  <tbody>\n",
              "    <tr>\n",
              "      <th>count</th>\n",
              "      <td>418287.000000</td>\n",
              "      <td>418287.000000</td>\n",
              "      <td>418287.000000</td>\n",
              "      <td>418287.000000</td>\n",
              "      <td>418287.000000</td>\n",
              "      <td>418287.000000</td>\n",
              "      <td>418287.000000</td>\n",
              "      <td>418287.000000</td>\n",
              "      <td>418287.000000</td>\n",
              "      <td>418287.000000</td>\n",
              "      <td>418287.000000</td>\n",
              "      <td>418287.000000</td>\n",
              "      <td>418287.000000</td>\n",
              "      <td>418287.000000</td>\n",
              "      <td>418287.000000</td>\n",
              "      <td>418287.000000</td>\n",
              "      <td>418287.000000</td>\n",
              "      <td>418287.000000</td>\n",
              "      <td>418287.000000</td>\n",
              "      <td>418287.000000</td>\n",
              "      <td>418287.000000</td>\n",
              "      <td>418287.000000</td>\n",
              "    </tr>\n",
              "    <tr>\n",
              "      <th>mean</th>\n",
              "      <td>0.001388</td>\n",
              "      <td>0.005023</td>\n",
              "      <td>0.414699</td>\n",
              "      <td>0.019009</td>\n",
              "      <td>0.001511</td>\n",
              "      <td>0.070546</td>\n",
              "      <td>0.002643</td>\n",
              "      <td>0.042295</td>\n",
              "      <td>0.003276</td>\n",
              "      <td>0.017717</td>\n",
              "      <td>0.003896</td>\n",
              "      <td>0.021654</td>\n",
              "      <td>0.004385</td>\n",
              "      <td>0.260919</td>\n",
              "      <td>0.628124</td>\n",
              "      <td>0.015214</td>\n",
              "      <td>0.278366</td>\n",
              "      <td>0.594207</td>\n",
              "      <td>0.013010</td>\n",
              "      <td>0.109633</td>\n",
              "      <td>0.338361</td>\n",
              "      <td>0.009893</td>\n",
              "    </tr>\n",
              "    <tr>\n",
              "      <th>std</th>\n",
              "      <td>0.006913</td>\n",
              "      <td>0.006826</td>\n",
              "      <td>0.212870</td>\n",
              "      <td>0.071739</td>\n",
              "      <td>0.006268</td>\n",
              "      <td>0.142278</td>\n",
              "      <td>0.018453</td>\n",
              "      <td>0.110835</td>\n",
              "      <td>0.019544</td>\n",
              "      <td>0.063211</td>\n",
              "      <td>0.019695</td>\n",
              "      <td>0.072397</td>\n",
              "      <td>0.023105</td>\n",
              "      <td>0.439136</td>\n",
              "      <td>0.483306</td>\n",
              "      <td>0.122405</td>\n",
              "      <td>0.448195</td>\n",
              "      <td>0.491045</td>\n",
              "      <td>0.113318</td>\n",
              "      <td>0.312432</td>\n",
              "      <td>0.473153</td>\n",
              "      <td>0.098969</td>\n",
              "    </tr>\n",
              "    <tr>\n",
              "      <th>min</th>\n",
              "      <td>0.000000</td>\n",
              "      <td>0.000000</td>\n",
              "      <td>0.000000</td>\n",
              "      <td>0.000000</td>\n",
              "      <td>0.000000</td>\n",
              "      <td>0.000000</td>\n",
              "      <td>0.000000</td>\n",
              "      <td>0.000000</td>\n",
              "      <td>0.000000</td>\n",
              "      <td>0.000000</td>\n",
              "      <td>0.000000</td>\n",
              "      <td>0.000000</td>\n",
              "      <td>0.000000</td>\n",
              "      <td>0.000000</td>\n",
              "      <td>0.000000</td>\n",
              "      <td>0.000000</td>\n",
              "      <td>0.000000</td>\n",
              "      <td>0.000000</td>\n",
              "      <td>0.000000</td>\n",
              "      <td>0.000000</td>\n",
              "      <td>0.000000</td>\n",
              "      <td>0.000000</td>\n",
              "    </tr>\n",
              "    <tr>\n",
              "      <th>25%</th>\n",
              "      <td>0.000000</td>\n",
              "      <td>0.003115</td>\n",
              "      <td>0.250000</td>\n",
              "      <td>0.000000</td>\n",
              "      <td>0.000368</td>\n",
              "      <td>0.001161</td>\n",
              "      <td>0.000000</td>\n",
              "      <td>0.000813</td>\n",
              "      <td>0.000000</td>\n",
              "      <td>0.000361</td>\n",
              "      <td>0.000000</td>\n",
              "      <td>0.001348</td>\n",
              "      <td>0.000136</td>\n",
              "      <td>0.000000</td>\n",
              "      <td>0.000000</td>\n",
              "      <td>0.000000</td>\n",
              "      <td>0.000000</td>\n",
              "      <td>0.000000</td>\n",
              "      <td>0.000000</td>\n",
              "      <td>0.000000</td>\n",
              "      <td>0.000000</td>\n",
              "      <td>0.000000</td>\n",
              "    </tr>\n",
              "    <tr>\n",
              "      <th>50%</th>\n",
              "      <td>0.000000</td>\n",
              "      <td>0.006231</td>\n",
              "      <td>0.370000</td>\n",
              "      <td>0.000000</td>\n",
              "      <td>0.001103</td>\n",
              "      <td>0.008422</td>\n",
              "      <td>0.000000</td>\n",
              "      <td>0.004235</td>\n",
              "      <td>0.000000</td>\n",
              "      <td>0.001578</td>\n",
              "      <td>0.000000</td>\n",
              "      <td>0.003422</td>\n",
              "      <td>0.001249</td>\n",
              "      <td>0.000000</td>\n",
              "      <td>1.000000</td>\n",
              "      <td>0.000000</td>\n",
              "      <td>0.000000</td>\n",
              "      <td>1.000000</td>\n",
              "      <td>0.000000</td>\n",
              "      <td>0.000000</td>\n",
              "      <td>0.000000</td>\n",
              "      <td>0.000000</td>\n",
              "    </tr>\n",
              "    <tr>\n",
              "      <th>75%</th>\n",
              "      <td>0.000000</td>\n",
              "      <td>0.006231</td>\n",
              "      <td>0.540000</td>\n",
              "      <td>0.000000</td>\n",
              "      <td>0.001839</td>\n",
              "      <td>0.063483</td>\n",
              "      <td>0.000000</td>\n",
              "      <td>0.025496</td>\n",
              "      <td>0.000000</td>\n",
              "      <td>0.007259</td>\n",
              "      <td>0.000051</td>\n",
              "      <td>0.005578</td>\n",
              "      <td>0.004411</td>\n",
              "      <td>1.000000</td>\n",
              "      <td>1.000000</td>\n",
              "      <td>0.000000</td>\n",
              "      <td>1.000000</td>\n",
              "      <td>1.000000</td>\n",
              "      <td>0.000000</td>\n",
              "      <td>0.000000</td>\n",
              "      <td>1.000000</td>\n",
              "      <td>0.000000</td>\n",
              "    </tr>\n",
              "    <tr>\n",
              "      <th>max</th>\n",
              "      <td>1.000000</td>\n",
              "      <td>1.000000</td>\n",
              "      <td>0.990000</td>\n",
              "      <td>0.916314</td>\n",
              "      <td>1.000000</td>\n",
              "      <td>1.000000</td>\n",
              "      <td>0.562963</td>\n",
              "      <td>1.000000</td>\n",
              "      <td>1.000000</td>\n",
              "      <td>1.000000</td>\n",
              "      <td>0.562963</td>\n",
              "      <td>1.000000</td>\n",
              "      <td>1.000000</td>\n",
              "      <td>1.000000</td>\n",
              "      <td>1.000000</td>\n",
              "      <td>1.000000</td>\n",
              "      <td>1.000000</td>\n",
              "      <td>1.000000</td>\n",
              "      <td>1.000000</td>\n",
              "      <td>1.000000</td>\n",
              "      <td>1.000000</td>\n",
              "      <td>1.000000</td>\n",
              "    </tr>\n",
              "  </tbody>\n",
              "</table>\n",
              "</div>"
            ],
            "text/plain": [
              "        commentCount      likeCount  ...  gender.line1_1.0  gender.line1_3.0\n",
              "count  418287.000000  418287.000000  ...     418287.000000     418287.000000\n",
              "mean        0.001388       0.005023  ...          0.338361          0.009893\n",
              "std         0.006913       0.006826  ...          0.473153          0.098969\n",
              "min         0.000000       0.000000  ...          0.000000          0.000000\n",
              "25%         0.000000       0.003115  ...          0.000000          0.000000\n",
              "50%         0.000000       0.006231  ...          0.000000          0.000000\n",
              "75%         0.000000       0.006231  ...          1.000000          0.000000\n",
              "max         1.000000       1.000000  ...          1.000000          1.000000\n",
              "\n",
              "[8 rows x 22 columns]"
            ]
          },
          "metadata": {
            "tags": []
          },
          "execution_count": 87
        }
      ]
    },
    {
      "cell_type": "code",
      "metadata": {
        "id": "KWxY9hIOxsGJ",
        "colab_type": "code",
        "colab": {}
      },
      "source": [
        "Z=pd.concat([X,Y['target']],ignore_index=True,axis=1)"
      ],
      "execution_count": 0,
      "outputs": []
    },
    {
      "cell_type": "code",
      "metadata": {
        "id": "Kof9-QJDnBYn",
        "colab_type": "code",
        "colab": {}
      },
      "source": [
        "X['target']=Y['target'].to_numpy().tolist()"
      ],
      "execution_count": 0,
      "outputs": []
    },
    {
      "cell_type": "code",
      "metadata": {
        "id": "z0nTHISn4Vs3",
        "colab_type": "code",
        "outputId": "c5008494-5ecf-465a-b82c-f1f1ca8bfbe2",
        "colab": {
          "base_uri": "https://localhost:8080/",
          "height": 151
        }
      },
      "source": [
        "X.columns"
      ],
      "execution_count": 0,
      "outputs": [
        {
          "output_type": "execute_result",
          "data": {
            "text/plain": [
              "Index(['commentCount', 'likeCount', 'dlScore', 'spellScore', 'readCount',\n",
              "       'likeCount.line1', 'spellScore.line1', 'haikuCount.line2',\n",
              "       'spellScore.line2', 'likeCount.line3', 'spellScore.line3',\n",
              "       'time_line2_took', 'time_2line_hiku_shown', 'gender.line2_1',\n",
              "       'gender.line2_2', 'gender.line2_3', 'gender.line3_1.0',\n",
              "       'gender.line3_2.0', 'gender.line3_3.0', 'gender.line1_0.0',\n",
              "       'gender.line1_1.0', 'gender.line1_3.0', 'target'],\n",
              "      dtype='object')"
            ]
          },
          "metadata": {
            "tags": []
          },
          "execution_count": 121
        }
      ]
    },
    {
      "cell_type": "code",
      "metadata": {
        "id": "KLWAAZGAnzXl",
        "colab_type": "code",
        "colab": {}
      },
      "source": [
        "X.to_pickle('processed_data')"
      ],
      "execution_count": 0,
      "outputs": []
    },
    {
      "cell_type": "code",
      "metadata": {
        "id": "FbhD3qtUpL4-",
        "colab_type": "code",
        "colab": {}
      },
      "source": [
        "import pickle\n",
        "with open('processed_data','rb') as pickle_file:\n",
        "    X = pickle.load(pickle_file)"
      ],
      "execution_count": 0,
      "outputs": []
    },
    {
      "cell_type": "code",
      "metadata": {
        "id": "9g7napO4L0C4",
        "colab_type": "code",
        "colab": {
          "base_uri": "https://localhost:8080/",
          "height": 304
        },
        "outputId": "71ad110b-d138-41b2-9bc7-69a495d61154"
      },
      "source": [
        "X.describe()"
      ],
      "execution_count": 5,
      "outputs": [
        {
          "output_type": "execute_result",
          "data": {
            "text/html": [
              "<div>\n",
              "<style scoped>\n",
              "    .dataframe tbody tr th:only-of-type {\n",
              "        vertical-align: middle;\n",
              "    }\n",
              "\n",
              "    .dataframe tbody tr th {\n",
              "        vertical-align: top;\n",
              "    }\n",
              "\n",
              "    .dataframe thead th {\n",
              "        text-align: right;\n",
              "    }\n",
              "</style>\n",
              "<table border=\"1\" class=\"dataframe\">\n",
              "  <thead>\n",
              "    <tr style=\"text-align: right;\">\n",
              "      <th></th>\n",
              "      <th>commentCount</th>\n",
              "      <th>likeCount</th>\n",
              "      <th>dlScore</th>\n",
              "      <th>spellScore</th>\n",
              "      <th>readCount</th>\n",
              "      <th>likeCount.line1</th>\n",
              "      <th>spellScore.line1</th>\n",
              "      <th>haikuCount.line2</th>\n",
              "      <th>spellScore.line2</th>\n",
              "      <th>likeCount.line3</th>\n",
              "      <th>spellScore.line3</th>\n",
              "      <th>time_line2_took</th>\n",
              "      <th>time_2line_hiku_shown</th>\n",
              "      <th>gender.line2_1</th>\n",
              "      <th>gender.line2_2</th>\n",
              "      <th>gender.line2_3</th>\n",
              "      <th>gender.line3_1.0</th>\n",
              "      <th>gender.line3_2.0</th>\n",
              "      <th>gender.line3_3.0</th>\n",
              "      <th>gender.line1_0.0</th>\n",
              "      <th>gender.line1_1.0</th>\n",
              "      <th>gender.line1_3.0</th>\n",
              "      <th>target</th>\n",
              "    </tr>\n",
              "  </thead>\n",
              "  <tbody>\n",
              "    <tr>\n",
              "      <th>count</th>\n",
              "      <td>418287.000000</td>\n",
              "      <td>418287.000000</td>\n",
              "      <td>418287.000000</td>\n",
              "      <td>418287.000000</td>\n",
              "      <td>418287.000000</td>\n",
              "      <td>418287.000000</td>\n",
              "      <td>418287.000000</td>\n",
              "      <td>418287.000000</td>\n",
              "      <td>418287.000000</td>\n",
              "      <td>418287.000000</td>\n",
              "      <td>418287.000000</td>\n",
              "      <td>418287.000000</td>\n",
              "      <td>418287.000000</td>\n",
              "      <td>418287.000000</td>\n",
              "      <td>418287.000000</td>\n",
              "      <td>418287.000000</td>\n",
              "      <td>418287.000000</td>\n",
              "      <td>418287.000000</td>\n",
              "      <td>418287.000000</td>\n",
              "      <td>418287.000000</td>\n",
              "      <td>418287.000000</td>\n",
              "      <td>418287.000000</td>\n",
              "      <td>418287.000000</td>\n",
              "    </tr>\n",
              "    <tr>\n",
              "      <th>mean</th>\n",
              "      <td>0.001388</td>\n",
              "      <td>0.005023</td>\n",
              "      <td>0.414699</td>\n",
              "      <td>0.019009</td>\n",
              "      <td>0.001511</td>\n",
              "      <td>0.070546</td>\n",
              "      <td>0.002643</td>\n",
              "      <td>0.042295</td>\n",
              "      <td>0.003276</td>\n",
              "      <td>0.017717</td>\n",
              "      <td>0.003896</td>\n",
              "      <td>0.021654</td>\n",
              "      <td>0.004385</td>\n",
              "      <td>0.260919</td>\n",
              "      <td>0.628124</td>\n",
              "      <td>0.015214</td>\n",
              "      <td>0.278366</td>\n",
              "      <td>0.594207</td>\n",
              "      <td>0.013010</td>\n",
              "      <td>0.109633</td>\n",
              "      <td>0.338361</td>\n",
              "      <td>0.009893</td>\n",
              "      <td>0.168743</td>\n",
              "    </tr>\n",
              "    <tr>\n",
              "      <th>std</th>\n",
              "      <td>0.006913</td>\n",
              "      <td>0.006826</td>\n",
              "      <td>0.212870</td>\n",
              "      <td>0.071739</td>\n",
              "      <td>0.006268</td>\n",
              "      <td>0.142278</td>\n",
              "      <td>0.018453</td>\n",
              "      <td>0.110835</td>\n",
              "      <td>0.019544</td>\n",
              "      <td>0.063211</td>\n",
              "      <td>0.019695</td>\n",
              "      <td>0.072397</td>\n",
              "      <td>0.023105</td>\n",
              "      <td>0.439136</td>\n",
              "      <td>0.483306</td>\n",
              "      <td>0.122405</td>\n",
              "      <td>0.448195</td>\n",
              "      <td>0.491045</td>\n",
              "      <td>0.113318</td>\n",
              "      <td>0.312432</td>\n",
              "      <td>0.473153</td>\n",
              "      <td>0.098969</td>\n",
              "      <td>0.374525</td>\n",
              "    </tr>\n",
              "    <tr>\n",
              "      <th>min</th>\n",
              "      <td>0.000000</td>\n",
              "      <td>0.000000</td>\n",
              "      <td>0.000000</td>\n",
              "      <td>0.000000</td>\n",
              "      <td>0.000000</td>\n",
              "      <td>0.000000</td>\n",
              "      <td>0.000000</td>\n",
              "      <td>0.000000</td>\n",
              "      <td>0.000000</td>\n",
              "      <td>0.000000</td>\n",
              "      <td>0.000000</td>\n",
              "      <td>0.000000</td>\n",
              "      <td>0.000000</td>\n",
              "      <td>0.000000</td>\n",
              "      <td>0.000000</td>\n",
              "      <td>0.000000</td>\n",
              "      <td>0.000000</td>\n",
              "      <td>0.000000</td>\n",
              "      <td>0.000000</td>\n",
              "      <td>0.000000</td>\n",
              "      <td>0.000000</td>\n",
              "      <td>0.000000</td>\n",
              "      <td>0.000000</td>\n",
              "    </tr>\n",
              "    <tr>\n",
              "      <th>25%</th>\n",
              "      <td>0.000000</td>\n",
              "      <td>0.003115</td>\n",
              "      <td>0.250000</td>\n",
              "      <td>0.000000</td>\n",
              "      <td>0.000368</td>\n",
              "      <td>0.001161</td>\n",
              "      <td>0.000000</td>\n",
              "      <td>0.000813</td>\n",
              "      <td>0.000000</td>\n",
              "      <td>0.000361</td>\n",
              "      <td>0.000000</td>\n",
              "      <td>0.001348</td>\n",
              "      <td>0.000136</td>\n",
              "      <td>0.000000</td>\n",
              "      <td>0.000000</td>\n",
              "      <td>0.000000</td>\n",
              "      <td>0.000000</td>\n",
              "      <td>0.000000</td>\n",
              "      <td>0.000000</td>\n",
              "      <td>0.000000</td>\n",
              "      <td>0.000000</td>\n",
              "      <td>0.000000</td>\n",
              "      <td>0.000000</td>\n",
              "    </tr>\n",
              "    <tr>\n",
              "      <th>50%</th>\n",
              "      <td>0.000000</td>\n",
              "      <td>0.006231</td>\n",
              "      <td>0.370000</td>\n",
              "      <td>0.000000</td>\n",
              "      <td>0.001103</td>\n",
              "      <td>0.008422</td>\n",
              "      <td>0.000000</td>\n",
              "      <td>0.004235</td>\n",
              "      <td>0.000000</td>\n",
              "      <td>0.001578</td>\n",
              "      <td>0.000000</td>\n",
              "      <td>0.003422</td>\n",
              "      <td>0.001249</td>\n",
              "      <td>0.000000</td>\n",
              "      <td>1.000000</td>\n",
              "      <td>0.000000</td>\n",
              "      <td>0.000000</td>\n",
              "      <td>1.000000</td>\n",
              "      <td>0.000000</td>\n",
              "      <td>0.000000</td>\n",
              "      <td>0.000000</td>\n",
              "      <td>0.000000</td>\n",
              "      <td>0.000000</td>\n",
              "    </tr>\n",
              "    <tr>\n",
              "      <th>75%</th>\n",
              "      <td>0.000000</td>\n",
              "      <td>0.006231</td>\n",
              "      <td>0.540000</td>\n",
              "      <td>0.000000</td>\n",
              "      <td>0.001839</td>\n",
              "      <td>0.063483</td>\n",
              "      <td>0.000000</td>\n",
              "      <td>0.025496</td>\n",
              "      <td>0.000000</td>\n",
              "      <td>0.007259</td>\n",
              "      <td>0.000051</td>\n",
              "      <td>0.005578</td>\n",
              "      <td>0.004411</td>\n",
              "      <td>1.000000</td>\n",
              "      <td>1.000000</td>\n",
              "      <td>0.000000</td>\n",
              "      <td>1.000000</td>\n",
              "      <td>1.000000</td>\n",
              "      <td>0.000000</td>\n",
              "      <td>0.000000</td>\n",
              "      <td>1.000000</td>\n",
              "      <td>0.000000</td>\n",
              "      <td>0.000000</td>\n",
              "    </tr>\n",
              "    <tr>\n",
              "      <th>max</th>\n",
              "      <td>1.000000</td>\n",
              "      <td>1.000000</td>\n",
              "      <td>0.990000</td>\n",
              "      <td>0.916314</td>\n",
              "      <td>1.000000</td>\n",
              "      <td>1.000000</td>\n",
              "      <td>0.562963</td>\n",
              "      <td>1.000000</td>\n",
              "      <td>1.000000</td>\n",
              "      <td>1.000000</td>\n",
              "      <td>0.562963</td>\n",
              "      <td>1.000000</td>\n",
              "      <td>1.000000</td>\n",
              "      <td>1.000000</td>\n",
              "      <td>1.000000</td>\n",
              "      <td>1.000000</td>\n",
              "      <td>1.000000</td>\n",
              "      <td>1.000000</td>\n",
              "      <td>1.000000</td>\n",
              "      <td>1.000000</td>\n",
              "      <td>1.000000</td>\n",
              "      <td>1.000000</td>\n",
              "      <td>1.000000</td>\n",
              "    </tr>\n",
              "  </tbody>\n",
              "</table>\n",
              "</div>"
            ],
            "text/plain": [
              "        commentCount      likeCount  ...  gender.line1_3.0         target\n",
              "count  418287.000000  418287.000000  ...     418287.000000  418287.000000\n",
              "mean        0.001388       0.005023  ...          0.009893       0.168743\n",
              "std         0.006913       0.006826  ...          0.098969       0.374525\n",
              "min         0.000000       0.000000  ...          0.000000       0.000000\n",
              "25%         0.000000       0.003115  ...          0.000000       0.000000\n",
              "50%         0.000000       0.006231  ...          0.000000       0.000000\n",
              "75%         0.000000       0.006231  ...          0.000000       0.000000\n",
              "max         1.000000       1.000000  ...          1.000000       1.000000\n",
              "\n",
              "[8 rows x 23 columns]"
            ]
          },
          "metadata": {
            "tags": []
          },
          "execution_count": 5
        }
      ]
    },
    {
      "cell_type": "markdown",
      "metadata": {
        "id": "ALDtDu_N5aBF",
        "colab_type": "text"
      },
      "source": [
        "### Split Data\n"
      ]
    },
    {
      "cell_type": "code",
      "metadata": {
        "id": "G6yItm274Y6D",
        "colab_type": "code",
        "colab": {}
      },
      "source": [
        "column_list=['commentCount', 'likeCount', 'dlScore', 'spellScore','readCount','likeCount.line1',\t\n",
        "             'spellScore.line1','haikuCount.line2',\t'spellScore.line2',\t\n",
        "             'likeCount.line3',\t'spellScore.line3',\t'time_line2_took',\t'time_2line_hiku_shown',\t\n",
        "             'gender.line2_1',\t'gender.line2_2',\t'gender.line2_3',\t\n",
        "             'gender.line3_1.0',\t'gender.line3_2.0',\t'gender.line3_3.0',\t'gender.line1_0.0',\t'gender.line1_1.0'\n",
        "             ,\t'gender.line1_3.0']\n",
        "X_train, X_test, y_train, y_test = train_test_split(X[column_list],X[['target']], test_size=0.20, \n",
        "                                                    random_state=42,stratify=X['target'].to_list())"
      ],
      "execution_count": 0,
      "outputs": []
    },
    {
      "cell_type": "code",
      "metadata": {
        "id": "1GKg4NldCdJE",
        "colab_type": "code",
        "outputId": "efe30392-1ada-4d4d-b582-84c38adfd24f",
        "colab": {
          "base_uri": "https://localhost:8080/",
          "height": 34
        }
      },
      "source": [
        "X_train.shape"
      ],
      "execution_count": 12,
      "outputs": [
        {
          "output_type": "execute_result",
          "data": {
            "text/plain": [
              "(334629, 22)"
            ]
          },
          "metadata": {
            "tags": []
          },
          "execution_count": 12
        }
      ]
    },
    {
      "cell_type": "code",
      "metadata": {
        "id": "PFMD7WaxCh0D",
        "colab_type": "code",
        "colab": {}
      },
      "source": [
        "n=y_train.to_numpy()"
      ],
      "execution_count": 0,
      "outputs": []
    },
    {
      "cell_type": "code",
      "metadata": {
        "id": "76Y5wV0sDaLa",
        "colab_type": "code",
        "outputId": "ff907b70-5627-4709-8bb1-b1ca61370674",
        "colab": {
          "base_uri": "https://localhost:8080/",
          "height": 34
        }
      },
      "source": [
        "len(n.tolist())"
      ],
      "execution_count": 14,
      "outputs": [
        {
          "output_type": "execute_result",
          "data": {
            "text/plain": [
              "334629"
            ]
          },
          "metadata": {
            "tags": []
          },
          "execution_count": 14
        }
      ]
    },
    {
      "cell_type": "code",
      "metadata": {
        "id": "s9L9hzSGAhtA",
        "colab_type": "code",
        "colab": {}
      },
      "source": [
        "def get_learning_curve(train_sizes,train_scores,test_scores,eval_measure):\n",
        "  # Create means and standard deviations of training set scores\n",
        "  train_mean = np.mean(train_scores, axis=1)\n",
        "  train_std = np.std(train_scores, axis=1)\n",
        "\n",
        "  # Create means and standard deviations of test set scores\n",
        "  test_mean = np.mean(test_scores, axis=1)\n",
        "  test_std = np.std(test_scores, axis=1)\n",
        "\n",
        "  # Draw lines\n",
        "  plt.plot(train_sizes, train_mean, '--', color=\"#111111\",  label=\"Training score\")\n",
        "  plt.plot(train_sizes, test_mean, color=\"#111111\", label=\"Cross-validation score\")\n",
        "\n",
        "  # Draw bands\n",
        "  plt.fill_between(train_sizes, train_mean - train_std, train_mean + train_std, color=\"#DDDDDD\")\n",
        "  plt.fill_between(train_sizes, test_mean - test_std, test_mean + test_std, color=\"#DDDDDD\")\n",
        "\n",
        "  # Create plot\n",
        "  plt.title(\"Learning Curve\")\n",
        "  plt.xlabel(\"Training Set Size\"), plt.ylabel(eval_measure), plt.legend(loc=\"best\")\n",
        "  plt.tight_layout()\n",
        "  plt.show()"
      ],
      "execution_count": 0,
      "outputs": []
    },
    {
      "cell_type": "code",
      "metadata": {
        "id": "tr5touPaBZyo",
        "colab_type": "code",
        "colab": {}
      },
      "source": [
        "def fit_predict(model,X_train,y_train,X_test,y_test):\n",
        "  \n",
        "  model.fit(X_train,y_train.to_numpy().ravel())\n",
        "  predictions=model.predict(X_test)\n",
        "  \n",
        "  print(classification_report(y_test,predictions))\n",
        "  return model"
      ],
      "execution_count": 0,
      "outputs": []
    },
    {
      "cell_type": "code",
      "metadata": {
        "id": "FLgpHAY-TZrI",
        "colab_type": "code",
        "outputId": "929e9bda-23b7-46e7-9164-883be16c0565",
        "colab": {
          "base_uri": "https://localhost:8080/",
          "height": 586
        }
      },
      "source": [
        "LR_l1=LogisticRegression(penalty='l1', solver='liblinear',n_jobs=3,max_iter=10000)\n",
        "\n",
        "train_sizes, train_scores, test_scores=learning_curve(LR_l1, X_train, \n",
        "                                                      y_train.to_numpy().ravel(), groups=None, \n",
        "                                                      train_sizes=array([0.1, 0.33, 0.55, 0.78, 1. ]), \n",
        "                                                      cv=skfold, scoring='f1', \n",
        "                                                      exploit_incremental_learning=False, n_jobs=3, \n",
        "                                                      verbose=1, shuffle=True, random_state=42, \n",
        "                                                      error_score='raise-deprecating')\n",
        "\n",
        "\n",
        "\n",
        "get_learning_curve(train_sizes,train_scores,test_scores)\n",
        "fit_predict(LR_l1,X_train,y_train,X_test,y_test)"
      ],
      "execution_count": 0,
      "outputs": [
        {
          "output_type": "stream",
          "text": [
            "[learning_curve] Training set sizes: [ 26770  88341 147236 208807 267702]\n"
          ],
          "name": "stdout"
        },
        {
          "output_type": "stream",
          "text": [
            "[Parallel(n_jobs=3)]: Using backend LokyBackend with 3 concurrent workers.\n",
            "/usr/local/lib/python3.6/dist-packages/joblib/externals/loky/process_executor.py:706: UserWarning: A worker stopped while some jobs were given to the executor. This can be caused by a too short worker timeout or by a memory leak.\n",
            "  \"timeout or by a memory leak.\", UserWarning\n",
            "[Parallel(n_jobs=3)]: Done  25 out of  25 | elapsed:   46.3s finished\n"
          ],
          "name": "stderr"
        },
        {
          "output_type": "display_data",
          "data": {
            "image/png": "[encoded data removed]",
            "text/plain": [
              "<Figure size 432x288 with 1 Axes>"
            ]
          },
          "metadata": {
            "tags": []
          }
        },
        {
          "output_type": "stream",
          "text": [
            "/usr/local/lib/python3.6/dist-packages/sklearn/linear_model/logistic.py:1544: UserWarning: 'n_jobs' > 1 does not have any effect when 'solver' is set to 'liblinear'. Got 'n_jobs' = 3.\n",
            "  \" = {}.\".format(effective_n_jobs(self.n_jobs)))\n"
          ],
          "name": "stderr"
        },
        {
          "output_type": "stream",
          "text": [
            "              precision    recall  f1-score   support\n",
            "\n",
            "           0       0.83      1.00      0.91     69541\n",
            "           1       0.62      0.01      0.02     14117\n",
            "\n",
            "    accuracy                           0.83     83658\n",
            "   macro avg       0.73      0.50      0.46     83658\n",
            "weighted avg       0.80      0.83      0.76     83658\n",
            "\n"
          ],
          "name": "stdout"
        }
      ]
    },
    {
      "cell_type": "code",
      "metadata": {
        "id": "1X5HOOouO_cS",
        "colab_type": "code",
        "outputId": "fa37fbf1-168e-437f-9e7a-771f26b94b9c",
        "colab": {
          "base_uri": "https://localhost:8080/",
          "height": 586
        }
      },
      "source": [
        "LR_l1_balanced_class_w=LogisticRegression(penalty='l1',class_weight='balanced', solver='liblinear',n_jobs=3,max_iter=10000)\n",
        "\n",
        "train_sizes, train_scores, test_scores=learning_curve(LR_l1_balanced_class_w, X_train, \n",
        "                                                      y_train.to_numpy().ravel(), groups=None, \n",
        "                                                      train_sizes=array([0.1, 0.33, 0.55, 0.78, 1. ]), \n",
        "                                                      cv=skfold, scoring='f1', \n",
        "                                                      exploit_incremental_learning=False, n_jobs=3, \n",
        "                                                      verbose=1, shuffle=True, random_state=42, \n",
        "                                                      error_score='raise-deprecating')\n",
        "\n",
        "\n",
        "\n",
        "get_learning_curve(train_sizes,train_scores,test_scores)\n",
        "fit_predict(LR_l1_balanced_class_w,X_train,y_train,X_test,y_test)"
      ],
      "execution_count": 0,
      "outputs": [
        {
          "output_type": "stream",
          "text": [
            "[learning_curve] Training set sizes: [ 26770  88341 147236 208807 267702]\n"
          ],
          "name": "stdout"
        },
        {
          "output_type": "stream",
          "text": [
            "[Parallel(n_jobs=3)]: Using backend LokyBackend with 3 concurrent workers.\n",
            "/usr/local/lib/python3.6/dist-packages/joblib/externals/loky/process_executor.py:706: UserWarning: A worker stopped while some jobs were given to the executor. This can be caused by a too short worker timeout or by a memory leak.\n",
            "  \"timeout or by a memory leak.\", UserWarning\n",
            "[Parallel(n_jobs=3)]: Done  25 out of  25 | elapsed:   59.7s finished\n"
          ],
          "name": "stderr"
        },
        {
          "output_type": "display_data",
          "data": {
            "image/png": "[encoded data removed]",
            "text/plain": [
              "<Figure size 432x288 with 1 Axes>"
            ]
          },
          "metadata": {
            "tags": []
          }
        },
        {
          "output_type": "stream",
          "text": [
            "/usr/local/lib/python3.6/dist-packages/sklearn/linear_model/logistic.py:1544: UserWarning: 'n_jobs' > 1 does not have any effect when 'solver' is set to 'liblinear'. Got 'n_jobs' = 3.\n",
            "  \" = {}.\".format(effective_n_jobs(self.n_jobs)))\n"
          ],
          "name": "stderr"
        },
        {
          "output_type": "stream",
          "text": [
            "              precision    recall  f1-score   support\n",
            "\n",
            "           0       0.85      0.57      0.68     69541\n",
            "           1       0.20      0.53      0.29     14117\n",
            "\n",
            "    accuracy                           0.56     83658\n",
            "   macro avg       0.53      0.55      0.48     83658\n",
            "weighted avg       0.74      0.56      0.62     83658\n",
            "\n"
          ],
          "name": "stdout"
        }
      ]
    },
    {
      "cell_type": "code",
      "metadata": {
        "id": "fHfgGRGhJPbe",
        "colab_type": "code",
        "outputId": "32201691-b7a0-4c60-cd7a-a8ded4b20649",
        "colab": {
          "base_uri": "https://localhost:8080/",
          "height": 401
        }
      },
      "source": [
        "LR_l2_balanced_class_w=LogisticRegression(penalty='l2',class_weight='balanced', solver='liblinear',n_jobs=3,max_iter=10000)\n",
        "\n",
        "train_sizes, train_scores, test_scores=learning_curve(LR_l2_balanced_class_w, X_train, y_train.to_numpy().ravel(), groups=None, train_sizes=array([0.1, 0.33, 0.55, 0.78, 1. ]), \n",
        "               cv=skfold, scoring='f1', exploit_incremental_learning=False, n_jobs=3, \n",
        "               verbose=1, shuffle=True, random_state=42, \n",
        "               error_score='raise-deprecating')\n",
        "\n",
        "\n",
        "\n",
        "get_learning_curve(train_sizes,train_scores,test_scores):"
      ],
      "execution_count": 0,
      "outputs": [
        {
          "output_type": "stream",
          "text": [
            "[learning_curve] Training set sizes: [ 26770  88341 147236 208807 267702]\n"
          ],
          "name": "stdout"
        },
        {
          "output_type": "stream",
          "text": [
            "[Parallel(n_jobs=3)]: Using backend LokyBackend with 3 concurrent workers.\n",
            "/usr/local/lib/python3.6/dist-packages/joblib/externals/loky/process_executor.py:706: UserWarning: A worker stopped while some jobs were given to the executor. This can be caused by a too short worker timeout or by a memory leak.\n",
            "  \"timeout or by a memory leak.\", UserWarning\n",
            "[Parallel(n_jobs=3)]: Done  25 out of  25 | elapsed:   49.2s finished\n"
          ],
          "name": "stderr"
        },
        {
          "output_type": "display_data",
          "data": {
            "image/png": "[encoded data removed]",
            "text/plain": [
              "<Figure size 432x288 with 1 Axes>"
            ]
          },
          "metadata": {
            "tags": []
          }
        }
      ]
    },
    {
      "cell_type": "code",
      "metadata": {
        "id": "epEmF93QOSWl",
        "colab_type": "code",
        "outputId": "3425bb8f-fb28-4dac-a0e6-6f217bd9a379",
        "colab": {
          "base_uri": "https://localhost:8080/",
          "height": 222
        }
      },
      "source": [
        "fit_predict(LR_l2_balanced_class_w,X_train,y_train,X_test,y_test)"
      ],
      "execution_count": 0,
      "outputs": [
        {
          "output_type": "stream",
          "text": [
            "/usr/local/lib/python3.6/dist-packages/sklearn/linear_model/logistic.py:1544: UserWarning: 'n_jobs' > 1 does not have any effect when 'solver' is set to 'liblinear'. Got 'n_jobs' = 3.\n",
            "  \" = {}.\".format(effective_n_jobs(self.n_jobs)))\n"
          ],
          "name": "stderr"
        },
        {
          "output_type": "stream",
          "text": [
            "              precision    recall  f1-score   support\n",
            "\n",
            "           0       0.85      0.56      0.67     69541\n",
            "           1       0.20      0.53      0.29     14117\n",
            "\n",
            "    accuracy                           0.55     83658\n",
            "   macro avg       0.52      0.54      0.48     83658\n",
            "weighted avg       0.74      0.55      0.61     83658\n",
            "\n"
          ],
          "name": "stdout"
        }
      ]
    },
    {
      "cell_type": "code",
      "metadata": {
        "id": "687ksyRk6pol",
        "colab_type": "code",
        "outputId": "aa293cef-02b9-4f32-ec90-89bbcf5659a3",
        "colab": {
          "base_uri": "https://localhost:8080/",
          "height": 602
        }
      },
      "source": [
        "LR_l1_auto_w=LogisticRegression(penalty='l1',C=1.0,class_weight='balanced', solver='liblinear',n_jobs=5,max_iter=10000)\n",
        "\n",
        "train_sizes, train_scores, test_scores=learning_curve(LR_l1_auto_w, X_train, \n",
        "                                                      y_train.to_numpy().ravel(), groups=None, \n",
        "                                                      train_sizes=array([0.1, 0.33, 0.55, 0.78, 1. ]), \n",
        "                                                      cv=skfold, scoring='accuracy', \n",
        "                                                      exploit_incremental_learning=False, n_jobs=5, \n",
        "                                                      verbose=1, shuffle=True, random_state=42, \n",
        "                                                      error_score='raise-deprecating')\n",
        "\n",
        "\n",
        "\n",
        "get_learning_curve(train_sizes,train_scores,test_scores,'accuracy')\n",
        "\n",
        "print('============Held Out Test Set Stats====================')\n",
        "fit_predict(LR_l1_auto_w,X_train,y_train,X_test,y_test)"
      ],
      "execution_count": 0,
      "outputs": [
        {
          "output_type": "stream",
          "text": [
            "[learning_curve] Training set sizes: [ 26770  88341 147236 208807 267702]\n"
          ],
          "name": "stdout"
        },
        {
          "output_type": "stream",
          "text": [
            "[Parallel(n_jobs=5)]: Using backend LokyBackend with 5 concurrent workers.\n",
            "/usr/local/lib/python3.6/dist-packages/joblib/externals/loky/process_executor.py:706: UserWarning: A worker stopped while some jobs were given to the executor. This can be caused by a too short worker timeout or by a memory leak.\n",
            "  \"timeout or by a memory leak.\", UserWarning\n",
            "[Parallel(n_jobs=5)]: Done  25 out of  25 | elapsed:  1.0min finished\n"
          ],
          "name": "stderr"
        },
        {
          "output_type": "display_data",
          "data": {
            "image/png": "[encoded data removed]",
            "text/plain": [
              "<Figure size 432x288 with 1 Axes>"
            ]
          },
          "metadata": {
            "tags": []
          }
        },
        {
          "output_type": "stream",
          "text": [
            "============Held Out Test Set Stats====================\n"
          ],
          "name": "stdout"
        },
        {
          "output_type": "stream",
          "text": [
            "/usr/local/lib/python3.6/dist-packages/sklearn/linear_model/logistic.py:1544: UserWarning: 'n_jobs' > 1 does not have any effect when 'solver' is set to 'liblinear'. Got 'n_jobs' = 5.\n",
            "  \" = {}.\".format(effective_n_jobs(self.n_jobs)))\n"
          ],
          "name": "stderr"
        },
        {
          "output_type": "stream",
          "text": [
            "              precision    recall  f1-score   support\n",
            "\n",
            "           0       0.85      0.57      0.68     69541\n",
            "           1       0.20      0.53      0.29     14117\n",
            "\n",
            "    accuracy                           0.56     83658\n",
            "   macro avg       0.53      0.55      0.48     83658\n",
            "weighted avg       0.74      0.56      0.62     83658\n",
            "\n"
          ],
          "name": "stdout"
        }
      ]
    },
    {
      "cell_type": "code",
      "metadata": {
        "id": "rZCdsj94Mzj2",
        "colab_type": "code",
        "colab": {}
      },
      "source": [
        "def get_p_r_curve(model,X_train,y_train,X_test,y_test):\n",
        "  pred_y=model.predict(X_test) \n",
        "\n",
        "  probs_y=model.predict_proba(X_test) \n",
        "  # probs_y is a 2-D array of probability of being labeled as 0 (first column of array) vs 1 (2nd column in array)\n",
        "\n",
        "  \n",
        "  precision, recall, thresholds = precision_recall_curve(y_test, probs_y[:, \n",
        "  1]) \n",
        "     #retrieve probability of being 1(in second column of probs_y)\n",
        "  pr_auc = auc(recall, precision)\n",
        "\n",
        "  plt.title(\"Precision-Recall vs Threshold Chart\")\n",
        "  plt.plot(thresholds, precision[: -1], \"b--\", label=\"Precision\")\n",
        "  plt.plot(thresholds, recall[: -1], \"r--\", label=\"Recall\")\n",
        "  plt.ylabel(\"Precision, Recall\")\n",
        "  plt.xlabel(\"Threshold\")\n",
        "  plt.legend(loc=\"lower left\")\n",
        "  plt.ylim([0,1])"
      ],
      "execution_count": 0,
      "outputs": []
    },
    {
      "cell_type": "code",
      "metadata": {
        "id": "7nqTvK89Mzgv",
        "colab_type": "code",
        "outputId": "1b32c9fb-e1bb-4eb8-c4dd-1a60ebd39c0f",
        "colab": {
          "base_uri": "https://localhost:8080/",
          "height": 295
        }
      },
      "source": [
        "get_p_r_curve(LR_l1_auto_w,X_train,y_train,X_test,y_test)"
      ],
      "execution_count": 0,
      "outputs": [
        {
          "output_type": "display_data",
          "data": {
            "image/png": "[encoded data removed]",
            "text/plain": [
              "<Figure size 432x288 with 1 Axes>"
            ]
          },
          "metadata": {
            "tags": []
          }
        }
      ]
    },
    {
      "cell_type": "code",
      "metadata": {
        "id": "BSoVM1wMMzdU",
        "colab_type": "code",
        "outputId": "8ece5548-32a8-41c2-8d6d-39b811cf47af",
        "colab": {
          "base_uri": "https://localhost:8080/",
          "height": 1000
        }
      },
      "source": [
        "LR=LogisticRegression(penalty='l1',C=1.0,class_weight='balanced', solver='liblinear',n_jobs=1,max_iter=10000)\n",
        "LR_bag=BaggingClassifier(base_estimator=LR, n_estimators=10, max_samples=0.90, bootstrap=True,n_jobs=-1,\n",
        "                  random_state=42, verbose=1)\n",
        "\n",
        "train_sizes, train_scores, test_scores=learning_curve(LR_bag, X_train, \n",
        "                                                      y_train.to_numpy().ravel(), groups=None, \n",
        "                                                      train_sizes=array([0.1, 0.33, 0.55, 0.78, 1. ]), \n",
        "                                                      cv=skfold, scoring='accuracy', \n",
        "                                                      exploit_incremental_learning=False, n_jobs=-1, \n",
        "                                                      verbose=0, shuffle=True, random_state=42, \n",
        "                                                      error_score='raise-deprecating')\n",
        "\n",
        "get_learning_curve(train_sizes,train_scores,test_scores,'accuracy')\n",
        "\n",
        "print('============Held Out Test Set Stats====================')\n",
        "fit_predict(LR_bag,X_train,y_train,X_test,y_test)\n",
        "print('============Precision Recall Curve for various thresholds====================')\n",
        "get_p_r_curve(LR_bag,X_train,y_train,X_test,y_test)"
      ],
      "execution_count": 0,
      "outputs": [
        {
          "output_type": "stream",
          "text": [
            "/usr/local/lib/python3.6/dist-packages/joblib/externals/loky/process_executor.py:706: UserWarning: A worker stopped while some jobs were given to the executor. This can be caused by a too short worker timeout or by a memory leak.\n",
            "  \"timeout or by a memory leak.\", UserWarning\n"
          ],
          "name": "stderr"
        },
        {
          "output_type": "display_data",
          "data": {
            "image/png": "[encoded data removed]",
            "text/plain": [
              "<Figure size 432x288 with 1 Axes>"
            ]
          },
          "metadata": {
            "tags": []
          }
        },
        {
          "output_type": "stream",
          "text": [
            "============Held Out Test Set Stats====================\n"
          ],
          "name": "stdout"
        },
        {
          "output_type": "stream",
          "text": [
            "[Parallel(n_jobs=2)]: Using backend LokyBackend with 2 concurrent workers.\n",
            "[Parallel(n_jobs=2)]: Done   2 out of   2 | elapsed:   49.3s remaining:    0.0s\n",
            "[Parallel(n_jobs=2)]: Done   2 out of   2 | elapsed:   49.3s finished\n",
            "[Parallel(n_jobs=2)]: Using backend LokyBackend with 2 concurrent workers.\n",
            "[Parallel(n_jobs=2)]: Done   2 out of   2 | elapsed:    1.3s finished\n",
            "[Parallel(n_jobs=2)]: Done   2 out of   2 | elapsed:    1.3s remaining:    0.0s\n"
          ],
          "name": "stderr"
        },
        {
          "output_type": "stream",
          "text": [
            "              precision    recall  f1-score   support\n",
            "\n",
            "           0       0.85      0.57      0.69     69541\n",
            "           1       0.20      0.52      0.29     14117\n",
            "\n",
            "    accuracy                           0.56     83658\n",
            "   macro avg       0.53      0.55      0.49     83658\n",
            "weighted avg       0.74      0.56      0.62     83658\n",
            "\n",
            "============Precision Recall Curve for various thresholds====================\n"
          ],
          "name": "stdout"
        },
        {
          "output_type": "stream",
          "text": [
            "[Parallel(n_jobs=2)]: Using backend LokyBackend with 2 concurrent workers.\n",
            "[Parallel(n_jobs=2)]: Done   2 out of   2 | elapsed:    1.3s finished\n",
            "[Parallel(n_jobs=2)]: Done   2 out of   2 | elapsed:    1.3s remaining:    0.0s\n",
            "[Parallel(n_jobs=2)]: Using backend LokyBackend with 2 concurrent workers.\n",
            "[Parallel(n_jobs=2)]: Done   2 out of   2 | elapsed:    1.3s finished\n",
            "[Parallel(n_jobs=2)]: Done   2 out of   2 | elapsed:    1.3s remaining:    0.0s\n"
          ],
          "name": "stderr"
        },
        {
          "output_type": "display_data",
          "data": {
            "image/png": "[encoded data removed]",
            "text/plain": [
              "<Figure size 432x288 with 1 Axes>"
            ]
          },
          "metadata": {
            "tags": []
          }
        }
      ]
    },
    {
      "cell_type": "code",
      "metadata": {
        "id": "7RVzT3K8MzYp",
        "colab_type": "code",
        "outputId": "f1c34d47-76c8-4b57-a0e2-b0346541d51c",
        "colab": {
          "base_uri": "https://localhost:8080/",
          "height": 1000
        }
      },
      "source": [
        "LR_l2=LogisticRegression(penalty='l2',C=1.0,class_weight='balanced', solver='liblinear',n_jobs=1,max_iter=10000)\n",
        "LR_l2_bag=BaggingClassifier(base_estimator=LR_l2, n_estimators=10, max_samples=0.90, bootstrap=True,n_jobs=-1,\n",
        "                  random_state=42, verbose=1)\n",
        "\n",
        "train_sizes, train_scores, test_scores=learning_curve(LR_l2_bag, X_train, \n",
        "                                                      y_train.to_numpy().ravel(), groups=None, \n",
        "                                                      train_sizes=array([0.1, 0.33, 0.55, 0.78, 1. ]), \n",
        "                                                      cv=skfold, scoring='accuracy', \n",
        "                                                      exploit_incremental_learning=False, n_jobs=-1, \n",
        "                                                      verbose=0, shuffle=True, random_state=42, \n",
        "                                                      error_score='raise-deprecating')\n",
        "\n",
        "get_learning_curve(train_sizes,train_scores,test_scores,'accuracy')\n",
        "\n",
        "print('============Held Out Test Set Stats====================')\n",
        "fit_predict(LR_l2_bag,X_train,y_train,X_test,y_test)\n",
        "print('============Precision Recall Curve for various thresholds====================')\n",
        "get_p_r_curve(LR_l2_bag,X_train,y_train,X_test,y_test)"
      ],
      "execution_count": 0,
      "outputs": [
        {
          "output_type": "stream",
          "text": [
            "/usr/local/lib/python3.6/dist-packages/joblib/externals/loky/process_executor.py:706: UserWarning: A worker stopped while some jobs were given to the executor. This can be caused by a too short worker timeout or by a memory leak.\n",
            "  \"timeout or by a memory leak.\", UserWarning\n"
          ],
          "name": "stderr"
        },
        {
          "output_type": "display_data",
          "data": {
            "image/png": "[encoded data removed]",
            "text/plain": [
              "<Figure size 432x288 with 1 Axes>"
            ]
          },
          "metadata": {
            "tags": []
          }
        },
        {
          "output_type": "stream",
          "text": [
            "============Held Out Test Set Stats====================\n"
          ],
          "name": "stdout"
        },
        {
          "output_type": "stream",
          "text": [
            "[Parallel(n_jobs=2)]: Using backend LokyBackend with 2 concurrent workers.\n",
            "[Parallel(n_jobs=2)]: Done   2 out of   2 | elapsed:   43.9s remaining:    0.0s\n",
            "[Parallel(n_jobs=2)]: Done   2 out of   2 | elapsed:   43.9s finished\n",
            "[Parallel(n_jobs=2)]: Using backend LokyBackend with 2 concurrent workers.\n",
            "[Parallel(n_jobs=2)]: Done   2 out of   2 | elapsed:    1.3s remaining:    0.0s\n",
            "[Parallel(n_jobs=2)]: Done   2 out of   2 | elapsed:    1.3s finished\n"
          ],
          "name": "stderr"
        },
        {
          "output_type": "stream",
          "text": [
            "              precision    recall  f1-score   support\n",
            "\n",
            "           0       0.85      0.56      0.68     69541\n",
            "           1       0.20      0.53      0.29     14117\n",
            "\n",
            "    accuracy                           0.55     83658\n",
            "   macro avg       0.52      0.54      0.48     83658\n",
            "weighted avg       0.74      0.55      0.61     83658\n",
            "\n",
            "============Precision Recall Curve for various thresholds====================\n"
          ],
          "name": "stdout"
        },
        {
          "output_type": "stream",
          "text": [
            "[Parallel(n_jobs=2)]: Using backend LokyBackend with 2 concurrent workers.\n",
            "[Parallel(n_jobs=2)]: Done   2 out of   2 | elapsed:    1.3s finished\n",
            "[Parallel(n_jobs=2)]: Done   2 out of   2 | elapsed:    1.3s remaining:    0.0s\n",
            "[Parallel(n_jobs=2)]: Using backend LokyBackend with 2 concurrent workers.\n",
            "[Parallel(n_jobs=2)]: Done   2 out of   2 | elapsed:    1.3s finished\n",
            "[Parallel(n_jobs=2)]: Done   2 out of   2 | elapsed:    1.3s remaining:    0.0s\n"
          ],
          "name": "stderr"
        },
        {
          "output_type": "display_data",
          "data": {
            "image/png": "[encoded data removed]",
            "text/plain": [
              "<Figure size 432x288 with 1 Axes>"
            ]
          },
          "metadata": {
            "tags": []
          }
        }
      ]
    },
    {
      "cell_type": "code",
      "metadata": {
        "id": "QVsylNemMzQu",
        "colab_type": "code",
        "outputId": "cba446f4-2ed6-4065-961d-26e65ec35c3c",
        "colab": {
          "base_uri": "https://localhost:8080/",
          "height": 465
        }
      },
      "source": [
        "DT=DecisionTreeClassifier(criterion='gini', splitter='best', max_depth=None, min_samples_split=2, \n",
        "                             min_samples_leaf=1, min_weight_fraction_leaf=0.0, max_features=None, \n",
        "                             random_state=42, max_leaf_nodes=None, min_impurity_decrease=0.0, \n",
        "                             min_impurity_split=None, class_weight='balanced', presort=False)\n",
        "\n",
        "\n",
        "train_sizes, train_scores, test_scores=learning_curve(DT, X_train, \n",
        "                                                      y_train.to_numpy().ravel(), groups=None, \n",
        "                                                      train_sizes=array([0.1, 0.33, 0.55, 0.78, 1. ]), \n",
        "                                                      cv=skfold, scoring='accuracy', \n",
        "                                                      exploit_incremental_learning=False, n_jobs=-1, \n",
        "                                                      verbose=0, shuffle=True, random_state=42, \n",
        "                                                      error_score='raise-deprecating')\n",
        "\n",
        "get_learning_curve(train_sizes,train_scores,test_scores,'accuracy')\n",
        "\n",
        "print('============Held Out Test Set Stats====================')\n",
        "model_DT=fit_predict(DT,X_train,y_train,X_test,y_test)\n"
      ],
      "execution_count": 0,
      "outputs": [
        {
          "output_type": "display_data",
          "data": {
            "image/png": "[encoded data removed]",
            "text/plain": [
              "<Figure size 432x288 with 1 Axes>"
            ]
          },
          "metadata": {
            "tags": []
          }
        },
        {
          "output_type": "stream",
          "text": [
            "============Held Out Test Set Stats====================\n",
            "              precision    recall  f1-score   support\n",
            "\n",
            "           0       0.85      0.85      0.85     69541\n",
            "           1       0.27      0.27      0.27     14117\n",
            "\n",
            "    accuracy                           0.75     83658\n",
            "   macro avg       0.56      0.56      0.56     83658\n",
            "weighted avg       0.75      0.75      0.75     83658\n",
            "\n"
          ],
          "name": "stdout"
        }
      ]
    },
    {
      "cell_type": "code",
      "metadata": {
        "id": "A1M2dYYLras1",
        "colab_type": "code",
        "outputId": "05e4365e-81e5-45c7-dc7d-4eed4a50dd52",
        "colab": {
          "base_uri": "https://localhost:8080/",
          "height": 34
        }
      },
      "source": [
        "model_DT.get_n_leaves()"
      ],
      "execution_count": 0,
      "outputs": [
        {
          "output_type": "execute_result",
          "data": {
            "text/plain": [
              "54690"
            ]
          },
          "metadata": {
            "tags": []
          },
          "execution_count": 133
        }
      ]
    },
    {
      "cell_type": "code",
      "metadata": {
        "id": "PUvVq8-s_Pg9",
        "colab_type": "code",
        "colab": {}
      },
      "source": [
        "train_f, validation_f, train_l, validation_l = train_test_split(X_train,y_train, test_size=0.20, \n",
        "                                                    random_state=42,stratify=y_train['target'].to_list())"
      ],
      "execution_count": 0,
      "outputs": []
    },
    {
      "cell_type": "code",
      "metadata": {
        "id": "xYUTgaGxf_yX",
        "colab_type": "code",
        "outputId": "ee26077e-acff-4257-f738-94c9d97174c8",
        "colab": {
          "base_uri": "https://localhost:8080/",
          "height": 283
        }
      },
      "source": [
        "max_depths = np.linspace(5, 75, 15)\n",
        "train_results = []\n",
        "test_results = []\n",
        "for max_depth in max_depths:\n",
        "  dt = DecisionTreeClassifier(max_depth=max_depth,class_weight='balanced')\n",
        "  dt.fit(train_f, train_l)\n",
        "  train_pred = dt.predict(train_f)\n",
        "  false_positive_rate, true_positive_rate, thresholds = roc_curve(train_l, train_pred)\n",
        "  roc_auc = auc(false_positive_rate, true_positive_rate)\n",
        "   # Add auc score to previous train results\n",
        "  train_results.append(roc_auc)\n",
        "  y_pred = dt.predict(validation_f)\n",
        "  false_positive_rate, true_positive_rate, thresholds = roc_curve(validation_l, y_pred)\n",
        "  roc_auc = auc(false_positive_rate, true_positive_rate)\n",
        "   # Add auc score to previous test results\n",
        "  test_results.append(roc_auc)\n",
        "from matplotlib.legend_handler import HandlerLine2D\n",
        "line1, = plt.plot(max_depths, train_results, 'b', label='Train AUC')\n",
        "line2, = plt.plot(max_depths, test_results, 'r', label='Test AUC')\n",
        "plt.legend(handler_map={line1: HandlerLine2D(numpoints=2)})\n",
        "plt.ylabel('AUC score')\n",
        "plt.xlabel('Tree depth')\n",
        "plt.show()"
      ],
      "execution_count": 0,
      "outputs": [
        {
          "output_type": "display_data",
          "data": {
            "image/png": "[encoded data removed]",
            "text/plain": [
              "<Figure size 432x288 with 1 Axes>"
            ]
          },
          "metadata": {
            "tags": []
          }
        }
      ]
    },
    {
      "cell_type": "code",
      "metadata": {
        "id": "TxOmy1G4inFG",
        "colab_type": "code",
        "outputId": "aec5a64d-51d8-47b4-ae0e-18e1584826f8",
        "colab": {
          "base_uri": "https://localhost:8080/",
          "height": 284
        }
      },
      "source": [
        "min_samples_splits = np.linspace(0.0001, 0.005, 10, endpoint=True)\n",
        "train_results = []\n",
        "test_results = []\n",
        "for min_samples_split in min_samples_splits:\n",
        "  dt = DecisionTreeClassifier(min_samples_split=min_samples_split,class_weight='balanced')\n",
        "  dt.fit(train_f, train_l)\n",
        "  train_pred = dt.predict(train_f)\n",
        "  false_positive_rate, true_positive_rate, thresholds = roc_curve(train_l, train_pred)\n",
        "  roc_auc = auc(false_positive_rate, true_positive_rate)\n",
        "   # Add auc score to previous train results\n",
        "  train_results.append(roc_auc)\n",
        "  y_pred = dt.predict(validation_f)\n",
        "  false_positive_rate, true_positive_rate, thresholds = roc_curve(validation_l, y_pred)\n",
        "  roc_auc = auc(false_positive_rate, true_positive_rate)\n",
        "   # Add auc score to previous test results\n",
        "  test_results.append(roc_auc)\n",
        "from matplotlib.legend_handler import HandlerLine2D\n",
        "line1, = plt.plot(min_samples_splits, train_results, 'b', label='Train AUC')\n",
        "line2, = plt.plot(min_samples_splits, test_results, 'r', label='Test AUC')\n",
        "plt.legend(handler_map={line1: HandlerLine2D(numpoints=2)})\n",
        "plt.ylabel('AUC score')\n",
        "plt.xlabel('min_samples_splits')\n",
        "plt.show()"
      ],
      "execution_count": 0,
      "outputs": [
        {
          "output_type": "display_data",
          "data": {
            "image/png": "[encoded data removed]",
            "text/plain": [
              "<Figure size 432x288 with 1 Axes>"
            ]
          },
          "metadata": {
            "tags": []
          }
        }
      ]
    },
    {
      "cell_type": "code",
      "metadata": {
        "id": "8mxMTTve6SH9",
        "colab_type": "code",
        "outputId": "f0799dcc-aa2d-424a-d2eb-76dedf159e3e",
        "colab": {
          "base_uri": "https://localhost:8080/",
          "height": 284
        }
      },
      "source": [
        "min_samples_leafs = np.linspace(0.0001, 0.002, 5, endpoint=True)\n",
        "train_results = []\n",
        "test_results = []\n",
        "for min_samples_leaf in min_samples_leafs:\n",
        "  dt = DecisionTreeClassifier(min_samples_leaf=min_samples_leaf,class_weight='balanced')\n",
        "  dt.fit(train_f, train_l)\n",
        "  train_pred = dt.predict(train_f)\n",
        "  false_positive_rate, true_positive_rate, thresholds = roc_curve(train_l, train_pred)\n",
        "  roc_auc = auc(false_positive_rate, true_positive_rate)\n",
        "   # Add auc score to previous train results\n",
        "  train_results.append(roc_auc)\n",
        "  y_pred = dt.predict(validation_f)\n",
        "  false_positive_rate, true_positive_rate, thresholds = roc_curve(validation_l, y_pred)\n",
        "  roc_auc = auc(false_positive_rate, true_positive_rate)\n",
        "   # Add auc score to previous test results\n",
        "  test_results.append(roc_auc)\n",
        "from matplotlib.legend_handler import HandlerLine2D\n",
        "line1, = plt.plot(min_samples_leafs, train_results, 'b', label='Train AUC')\n",
        "line2, = plt.plot(min_samples_leafs, test_results, 'r', label='Test AUC')\n",
        "plt.legend(handler_map={line1: HandlerLine2D(numpoints=2)})\n",
        "plt.ylabel('AUC score')\n",
        "plt.xlabel('min_samples_leafs')\n",
        "plt.show()"
      ],
      "execution_count": 0,
      "outputs": [
        {
          "output_type": "display_data",
          "data": {
            "image/png": "[encoded data removed]",
            "text/plain": [
              "<Figure size 432x288 with 1 Axes>"
            ]
          },
          "metadata": {
            "tags": []
          }
        }
      ]
    },
    {
      "cell_type": "code",
      "metadata": {
        "id": "izHvEbdS8QHr",
        "colab_type": "code",
        "outputId": "b6b5a954-edf3-4955-b301-c2a86e912b9e",
        "colab": {
          "base_uri": "https://localhost:8080/",
          "height": 284
        }
      },
      "source": [
        "max_features = list(range(1,X_train.shape[1]))\n",
        "train_results = []\n",
        "test_results = []\n",
        "for max_feature in max_features:\n",
        "  dt = DecisionTreeClassifier(max_features=max_feature,class_weight='balanced')\n",
        "  dt.fit(train_f, train_l)\n",
        "  train_pred = dt.predict(train_f)\n",
        "  false_positive_rate, true_positive_rate, thresholds = roc_curve(train_l, train_pred)\n",
        "  roc_auc = auc(false_positive_rate, true_positive_rate)\n",
        "   # Add auc score to previous train results\n",
        "  train_results.append(roc_auc)\n",
        "  y_pred = dt.predict(validation_f)\n",
        "  false_positive_rate, true_positive_rate, thresholds = roc_curve(validation_l, y_pred)\n",
        "  roc_auc = auc(false_positive_rate, true_positive_rate)\n",
        "   # Add auc score to previous test results\n",
        "  test_results.append(roc_auc)\n",
        "from matplotlib.legend_handler import HandlerLine2D\n",
        "line1, = plt.plot(max_features, train_results, 'b', label='Train AUC')\n",
        "line2, = plt.plot(max_features, test_results, 'r', label='Test AUC')\n",
        "plt.legend(handler_map={line1: HandlerLine2D(numpoints=2)})\n",
        "plt.ylabel('AUC score')\n",
        "plt.xlabel('max_features')\n",
        "plt.show()"
      ],
      "execution_count": 0,
      "outputs": [
        {
          "output_type": "display_data",
          "data": {
            "image/png": "[encoded data removed]",
            "text/plain": [
              "<Figure size 432x288 with 1 Axes>"
            ]
          },
          "metadata": {
            "tags": []
          }
        }
      ]
    },
    {
      "cell_type": "code",
      "metadata": {
        "id": "pLx2lqeq9KH_",
        "colab_type": "code",
        "outputId": "43d35936-aab0-4a19-a7c9-37372ea6fe2d",
        "colab": {
          "base_uri": "https://localhost:8080/",
          "height": 465
        }
      },
      "source": [
        "DT = DecisionTreeClassifier(class_weight='balanced',min_samples_leaf=0.001,min_samples_split=0.001,max_depth=30,random_state=42)\n",
        "\n",
        "train_sizes, train_scores, test_scores=learning_curve(DT, X_train, \n",
        "                                                      y_train.to_numpy().ravel(), groups=None, \n",
        "                                                      train_sizes=array([0.1, 0.33, 0.55, 0.78, 1. ]), \n",
        "                                                      cv=skfold, scoring='accuracy', \n",
        "                                                      exploit_incremental_learning=False, n_jobs=-1, \n",
        "                                                      verbose=0, shuffle=True, random_state=42, \n",
        "                                                      error_score='raise-deprecating')\n",
        "\n",
        "get_learning_curve(train_sizes,train_scores,test_scores,'accuracy')\n",
        "\n",
        "print('============Held Out Test Set Stats====================')\n",
        "DT_model=fit_predict(DT,X_train,y_train,X_test,y_test)"
      ],
      "execution_count": 0,
      "outputs": [
        {
          "output_type": "display_data",
          "data": {
            "image/png": "[encoded data removed]",
            "text/plain": [
              "<Figure size 432x288 with 1 Axes>"
            ]
          },
          "metadata": {
            "tags": []
          }
        },
        {
          "output_type": "stream",
          "text": [
            "============Held Out Test Set Stats====================\n",
            "              precision    recall  f1-score   support\n",
            "\n",
            "           0       0.89      0.57      0.70     69541\n",
            "           1       0.24      0.65      0.35     14117\n",
            "\n",
            "    accuracy                           0.59     83658\n",
            "   macro avg       0.56      0.61      0.52     83658\n",
            "weighted avg       0.78      0.59      0.64     83658\n",
            "\n"
          ],
          "name": "stdout"
        }
      ]
    },
    {
      "cell_type": "code",
      "metadata": {
        "id": "eYeAU6d9KcLn",
        "colab_type": "code",
        "colab": {}
      },
      "source": [
        "pickle.dump(DT_model, open('DT_model', 'wb'))"
      ],
      "execution_count": 0,
      "outputs": []
    },
    {
      "cell_type": "code",
      "metadata": {
        "id": "cwLOFYn2Jzv7",
        "colab_type": "code",
        "outputId": "e4821be9-643b-4ebc-cf57-068c45a2ba70",
        "colab": {
          "base_uri": "https://localhost:8080/",
          "height": 518
        }
      },
      "source": [
        "RF=RandomForestClassifier(n_estimators=10, bootstrap=True,n_jobs=-1,min_samples_leaf=0.001,min_samples_split=0.001,\n",
        "                          max_depth=30, random_state=42, class_weight=\"balanced_subsample\")\n",
        "\n",
        "train_sizes, train_scores, test_scores=learning_curve(RF, X_train, \n",
        "                                                      y_train.to_numpy().ravel(), groups=None, \n",
        "                                                      train_sizes=array([0.1, 0.33, 0.55, 0.78, 1. ]), \n",
        "                                                      cv=skfold, scoring='accuracy', \n",
        "                                                      exploit_incremental_learning=False, n_jobs=-1, \n",
        "                                                      verbose=0, shuffle=True, random_state=42, \n",
        "                                                      error_score='raise-deprecating')\n",
        "\n",
        "get_learning_curve(train_sizes,train_scores,test_scores,'accuracy')\n",
        "\n",
        "print('============Held Out Test Set Stats====================')\n",
        "RF_model=fit_predict(RF,X_train,y_train,X_test,y_test)\n",
        "pickle.dump(RF_model, open('RF_model', 'wb'))"
      ],
      "execution_count": 0,
      "outputs": [
        {
          "output_type": "stream",
          "text": [
            "/usr/local/lib/python3.6/dist-packages/joblib/externals/loky/process_executor.py:706: UserWarning: A worker stopped while some jobs were given to the executor. This can be caused by a too short worker timeout or by a memory leak.\n",
            "  \"timeout or by a memory leak.\", UserWarning\n"
          ],
          "name": "stderr"
        },
        {
          "output_type": "display_data",
          "data": {
            "image/png": "[encoded data removed]",
            "text/plain": [
              "<Figure size 432x288 with 1 Axes>"
            ]
          },
          "metadata": {
            "tags": []
          }
        },
        {
          "output_type": "stream",
          "text": [
            "============Held Out Test Set Stats====================\n",
            "              precision    recall  f1-score   support\n",
            "\n",
            "           0       0.88      0.58      0.70     69541\n",
            "           1       0.23      0.62      0.34     14117\n",
            "\n",
            "    accuracy                           0.59     83658\n",
            "   macro avg       0.56      0.60      0.52     83658\n",
            "weighted avg       0.77      0.59      0.64     83658\n",
            "\n"
          ],
          "name": "stdout"
        }
      ]
    },
    {
      "cell_type": "code",
      "metadata": {
        "id": "2l31KCrBR2Ve",
        "colab_type": "code",
        "outputId": "a4dc0d7d-3775-493a-c119-fd820d608968",
        "colab": {
          "base_uri": "https://localhost:8080/",
          "height": 518
        }
      },
      "source": [
        "GB=GradientBoostingClassifier(validation_fraction=0.2, n_iter_no_change=3,random_state=42)\n",
        "train_sizes, train_scores, test_scores=learning_curve(GB, X_train, \n",
        "                                                      y_train.to_numpy().ravel(), groups=None, \n",
        "                                                      train_sizes=array([0.1, 0.33, 0.55, 0.78, 1. ]), \n",
        "                                                      cv=skfold, scoring='accuracy', \n",
        "                                                      exploit_incremental_learning=False, n_jobs=-1, \n",
        "                                                      verbose=0, shuffle=True, random_state=42, \n",
        "                                                      error_score='raise-deprecating')\n",
        "\n",
        "get_learning_curve(train_sizes,train_scores,test_scores,'accuracy')\n",
        "\n",
        "print('============Held Out Test Set Stats====================')\n",
        "GB_model=fit_predict(GB,X_train,y_train,X_test,y_test)\n",
        "pickle.dump(GB_model, open('GB_model', 'wb'))"
      ],
      "execution_count": 0,
      "outputs": [
        {
          "output_type": "stream",
          "text": [
            "/usr/local/lib/python3.6/dist-packages/joblib/externals/loky/process_executor.py:706: UserWarning: A worker stopped while some jobs were given to the executor. This can be caused by a too short worker timeout or by a memory leak.\n",
            "  \"timeout or by a memory leak.\", UserWarning\n"
          ],
          "name": "stderr"
        },
        {
          "output_type": "display_data",
          "data": {
            "image/png": "[encoded data removed]",
            "text/plain": [
              "<Figure size 432x288 with 1 Axes>"
            ]
          },
          "metadata": {
            "tags": []
          }
        },
        {
          "output_type": "stream",
          "text": [
            "============Held Out Test Set Stats====================\n",
            "              precision    recall  f1-score   support\n",
            "\n",
            "           0       0.83      1.00      0.91     69541\n",
            "           1       0.84      0.02      0.04     14117\n",
            "\n",
            "    accuracy                           0.83     83658\n",
            "   macro avg       0.83      0.51      0.48     83658\n",
            "weighted avg       0.83      0.83      0.76     83658\n",
            "\n"
          ],
          "name": "stdout"
        }
      ]
    },
    {
      "cell_type": "code",
      "metadata": {
        "id": "ECPfarMKbUJ-",
        "colab_type": "code",
        "outputId": "009e0f8c-e401-4d3d-a52b-fad9f6ac232e",
        "colab": {
          "base_uri": "https://localhost:8080/",
          "height": 518
        }
      },
      "source": [
        "GB_v2=GradientBoostingClassifier(n_estimators=50,validation_fraction=0.2, n_iter_no_change=5,\n",
        "                                 min_samples_split=0.001,min_samples_leaf=0.001,max_depth=30,\n",
        "                                 random_state=42,tol=0.01,)\n",
        "train_sizes, train_scores, test_scores=learning_curve(GB_v2, X_train, \n",
        "                                                      y_train.to_numpy().ravel(), groups=None, \n",
        "                                                      train_sizes=array([0.1, 0.33, 0.55, 0.78, 1. ]), \n",
        "                                                      cv=skfold, scoring='accuracy', \n",
        "                                                      exploit_incremental_learning=False, n_jobs=-1, \n",
        "                                                      verbose=0, shuffle=True, random_state=42, \n",
        "                                                      error_score='raise-deprecating')\n",
        "\n",
        "get_learning_curve(train_sizes,train_scores,test_scores,'accuracy')\n",
        "\n",
        "print('============Held Out Test Set Stats====================')\n",
        "GB_model_v2=fit_predict(GB_v2,X_train,y_train,X_test,y_test)\n",
        "pickle.dump(GB_model_v2, open('GB_model_v2', 'wb'))"
      ],
      "execution_count": 18,
      "outputs": [
        {
          "output_type": "stream",
          "text": [
            "/usr/local/lib/python3.6/dist-packages/joblib/externals/loky/process_executor.py:706: UserWarning: A worker stopped while some jobs were given to the executor. This can be caused by a too short worker timeout or by a memory leak.\n",
            "  \"timeout or by a memory leak.\", UserWarning\n"
          ],
          "name": "stderr"
        },
        {
          "output_type": "display_data",
          "data": {
            "image/png": "[encoded data removed]",
            "text/plain": [
              "<Figure size 432x288 with 1 Axes>"
            ]
          },
          "metadata": {
            "tags": []
          }
        },
        {
          "output_type": "stream",
          "text": [
            "============Held Out Test Set Stats====================\n",
            "              precision    recall  f1-score   support\n",
            "\n",
            "           0       0.84      1.00      0.91     69541\n",
            "           1       0.80      0.03      0.06     14117\n",
            "\n",
            "    accuracy                           0.84     83658\n",
            "   macro avg       0.82      0.52      0.49     83658\n",
            "weighted avg       0.83      0.84      0.77     83658\n",
            "\n"
          ],
          "name": "stdout"
        }
      ]
    },
    {
      "cell_type": "code",
      "metadata": {
        "id": "bzpIWUhEpAjQ",
        "colab_type": "code",
        "colab": {
          "base_uri": "https://localhost:8080/",
          "height": 465
        },
        "outputId": "e44c6a02-d3fb-4b05-ec4f-174b20be3b73"
      },
      "source": [
        "DT_ada = DecisionTreeClassifier(class_weight='balanced',min_samples_leaf=0.001,\n",
        "                            min_samples_split=0.001,max_depth=30,random_state=42)\n",
        "DT_adaBoost=AdaBoostClassifier(base_estimator=DT_ada,random_state=42)\n",
        "train_sizes, train_scores, test_scores=learning_curve(DT_adaBoost, X_train, \n",
        "                                                      y_train.to_numpy().ravel(), groups=None, \n",
        "                                                      train_sizes=array([0.1, 0.33, 0.55, 0.78, 1. ]), \n",
        "                                                      cv=skfold, scoring='roc_auc', \n",
        "                                                      exploit_incremental_learning=False, n_jobs=-1, \n",
        "                                                      verbose=0, shuffle=True, random_state=42, \n",
        "                                                      error_score='raise-deprecating')\n",
        "\n",
        "get_learning_curve(train_sizes,train_scores,test_scores,'roc_auc')\n",
        "\n",
        "print('============Held Out Test Set Stats====================')\n",
        "DT_adaBoost_model=fit_predict(DT_adaBoost,X_train,y_train,X_test,y_test)\n",
        "pickle.dump(DT_adaBoost_model, open('DT_adaBoost_model', 'wb'))"
      ],
      "execution_count": 19,
      "outputs": [
        {
          "output_type": "display_data",
          "data": {
            "image/png": "[encoded data removed]",
            "text/plain": [
              "<Figure size 432x288 with 1 Axes>"
            ]
          },
          "metadata": {
            "tags": []
          }
        },
        {
          "output_type": "stream",
          "text": [
            "============Held Out Test Set Stats====================\n",
            "              precision    recall  f1-score   support\n",
            "\n",
            "           0       0.87      0.77      0.82     69541\n",
            "           1       0.28      0.44      0.34     14117\n",
            "\n",
            "    accuracy                           0.72     83658\n",
            "   macro avg       0.58      0.60      0.58     83658\n",
            "weighted avg       0.77      0.72      0.74     83658\n",
            "\n"
          ],
          "name": "stdout"
        }
      ]
    },
    {
      "cell_type": "markdown",
      "metadata": {
        "id": "Wm1PkAoAW5UG",
        "colab_type": "text"
      },
      "source": [
        "### Over Sampling"
      ]
    },
    {
      "cell_type": "code",
      "metadata": {
        "id": "AM08oSmAKUCB",
        "colab_type": "code",
        "outputId": "b12fa111-fa63-46ce-e6b1-beca2a503175",
        "colab": {
          "base_uri": "https://localhost:8080/",
          "height": 50
        }
      },
      "source": [
        "y_train[y_train['target']==1].count()"
      ],
      "execution_count": 0,
      "outputs": [
        {
          "output_type": "execute_result",
          "data": {
            "text/plain": [
              "target    56466\n",
              "dtype: int64"
            ]
          },
          "metadata": {
            "tags": []
          },
          "execution_count": 191
        }
      ]
    },
    {
      "cell_type": "code",
      "metadata": {
        "id": "2TgtzNzvWjrT",
        "colab_type": "code",
        "outputId": "1c65bdd2-0ff8-40a4-de4a-71a6090465de",
        "colab": {
          "base_uri": "https://localhost:8080/",
          "height": 50
        }
      },
      "source": [
        "y_train[y_train['target']==0].count()"
      ],
      "execution_count": 0,
      "outputs": [
        {
          "output_type": "execute_result",
          "data": {
            "text/plain": [
              "target    278163\n",
              "dtype: int64"
            ]
          },
          "metadata": {
            "tags": []
          },
          "execution_count": 192
        }
      ]
    },
    {
      "cell_type": "code",
      "metadata": {
        "id": "KZDoe2vQWzPV",
        "colab_type": "code",
        "colab": {}
      },
      "source": [
        ""
      ],
      "execution_count": 0,
      "outputs": []
    }
  ]
}